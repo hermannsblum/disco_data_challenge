{
 "cells": [
  {
   "cell_type": "code",
   "execution_count": 6,
   "metadata": {
    "collapsed": false
   },
   "outputs": [],
   "source": [
    "from ydc.tools.import_data import import_businesses, import_reviews\n",
    "from ydc.features.get_features import get_features\n",
    "import datetime as dt\n",
    "from random import sample\n",
    "from sklearn import svm\n",
    "import numpy as np"
   ]
  },
  {
   "cell_type": "code",
   "execution_count": 7,
   "metadata": {
    "collapsed": false
   },
   "outputs": [],
   "source": [
    "df_busi = import_businesses(new_cache=True)"
   ]
  },
  {
   "cell_type": "code",
   "execution_count": 8,
   "metadata": {
    "collapsed": false
   },
   "outputs": [
    {
     "name": "stdout",
     "output_type": "stream",
     "text": [
      "Successfully imported reviews with columns ['business_id' 'date' 'review_id' 'stars' 'text' 'type' 'user_id' 'votes'\n",
      " 'real_date']\n"
     ]
    }
   ],
   "source": [
    "df_rev = import_reviews(new_cache=True)"
   ]
  },
  {
   "cell_type": "code",
   "execution_count": 9,
   "metadata": {
    "collapsed": false
   },
   "outputs": [],
   "source": [
    "latest_date = df_rev.groupby('business_id')['real_date'].max()"
   ]
  },
  {
   "cell_type": "code",
   "execution_count": 10,
   "metadata": {
    "collapsed": true
   },
   "outputs": [],
   "source": [
    "def one_year(date_series):\n",
    "    threshold = date_series.max() - dt.timedelta(days=360)\n",
    "    return (date_series > threshold).sum()"
   ]
  },
  {
   "cell_type": "code",
   "execution_count": 11,
   "metadata": {
    "collapsed": false
   },
   "outputs": [],
   "source": [
    "grouped = df_rev.groupby('business_id')['real_date'].agg({'count': one_year})\n",
    "result = grouped['count'].apply(lambda x: x.nanosecond)  # Pandas is stupid and interpreted the sum as a timestamp"
   ]
  },
  {
   "cell_type": "code",
   "execution_count": 12,
   "metadata": {
    "collapsed": false
   },
   "outputs": [
    {
     "name": "stdout",
     "output_type": "stream",
     "text": [
      "Successfully imported reviews with columns ['business_id' 'date' 'stars' 'real_date']\n"
     ]
    }
   ],
   "source": [
    "(features, df, box, combos, cells, n_ind, n_dist) = get_features(status=True, new_cache=True)"
   ]
  },
  {
   "cell_type": "code",
   "execution_count": 13,
   "metadata": {
    "collapsed": true
   },
   "outputs": [],
   "source": [
    "df_res = df.join(result, on='business_id')"
   ]
  },
  {
   "cell_type": "code",
   "execution_count": 14,
   "metadata": {
    "collapsed": true
   },
   "outputs": [],
   "source": [
    "def divide_good_and_bad(dataframe, combos, key_feature, percentage):\n",
    "    \"\"\"\n",
    "    Take the given percentage of the dataframe and mark them as \"good\"\n",
    "    Done for each category separately, sort by column \"key_feature\"\n",
    "    \n",
    "    \"\"\"\n",
    "    # Initialize dataframe sorted by stars and setup new column \"good\" with False as default\n",
    "    dataframe = dataframe.sort(columns=key_feature, ascending=False)\n",
    "    dataframe['good'] = False\n",
    "    \n",
    "    for combo in combos:\n",
    "        # Every (super/sub) category combo\n",
    "        total = (df['category']==combo).sum()\n",
    "        \n",
    "        # Find n (total number times percentage)\n",
    "        num_good = int(round(total * percentage))\n",
    "        dataframe['good']\n",
    "        \n",
    "        # Get index from best n\n",
    "        idx = dataframe.loc[df['category']==combo, :].head(num_good).index\n",
    "        \n",
    "        # Set those best ones to true\n",
    "        dataframe.loc[idx, 'good'] = True\n",
    "    \n",
    "    # Restore correct order (sorting scrambled it)\n",
    "    return dataframe.sort_index()"
   ]
  },
  {
   "cell_type": "code",
   "execution_count": 15,
   "metadata": {
    "collapsed": true
   },
   "outputs": [],
   "source": [
    "businesses = divide_good_and_bad(df_res, combos, 'count', 0.5)\n",
    "test = df_res.groupby(\"category\")['city'].count()"
   ]
  },
  {
   "cell_type": "code",
   "execution_count": 16,
   "metadata": {
    "collapsed": false
   },
   "outputs": [],
   "source": [
    "combo = test.argmax()"
   ]
  },
  {
   "cell_type": "code",
   "execution_count": 17,
   "metadata": {
    "collapsed": true
   },
   "outputs": [],
   "source": [
    "def fitness_one(features, df_busi, combo, test_portion, test_rounds, status=False):\n",
    "    features = (features - features.mean()) / features.std()\n",
    "\n",
    "    score = []\n",
    "    idx = df_busi[df_busi['category'] == combo].index.tolist()\n",
    "\n",
    "    for _ in range(test_rounds):\n",
    "        # Take out 15% of data as random sample to test data with\n",
    "        idx_sample = sample(idx, round(len(idx)*test_portion))\n",
    "        idx_train = [index for index in idx if index not in idx_sample]\n",
    "\n",
    "        subcat_clf = svm.SVC(cache_size=2000, C=0.1, kernel='rbf')\n",
    "\n",
    "        feat_train = features.loc[idx_train, :].values\n",
    "        quality_train = df_busi.loc[idx_train, 'good'].values  \n",
    "\n",
    "        feat_sample = features.loc[idx_sample, :].values\n",
    "        quality_sample = df_busi.loc[idx_sample, 'good'].values  \n",
    "\n",
    "        subcat_clf.fit(feat_train, quality_train)\n",
    "        score.append(subcat_clf.score(feat_sample, quality_sample))\n",
    "\n",
    "    return np.mean(score)"
   ]
  },
  {
   "cell_type": "code",
   "execution_count": 18,
   "metadata": {
    "collapsed": false
   },
   "outputs": [
    {
     "data": {
      "text/plain": [
       "0.61155732679337826"
      ]
     },
     "execution_count": 18,
     "metadata": {},
     "output_type": "execute_result"
    }
   ],
   "source": [
    "fitness_one(features, businesses, combo, 0.4, 10)"
   ]
  },
  {
   "cell_type": "code",
   "execution_count": 18,
   "metadata": {
    "collapsed": true
   },
   "outputs": [],
   "source": [
    "def fitness(features, df_busi, combos, test_portion, test_rounds, status=False):\n",
    "    tot_results = []\n",
    "    for combo in combos:\n",
    "        try:\n",
    "            weight = df_busi.loc[df_busi['category']==combo, 'city'].count()\n",
    "            score = fitness_one(features, df_busi, combo, test_portion, test_rounds, status)\n",
    "            tot_results.append((score, weight))\n",
    "        except:\n",
    "            pass\n",
    "    \n",
    "    tot_score = 0\n",
    "    tot_weight = 0    \n",
    "    for item in tot_results:\n",
    "        if item[1]==0:\n",
    "            continue  # ignore \n",
    "        tot_score += item[0] * item[1]\n",
    "        tot_weight += item[1]\n",
    "        \n",
    "    return tot_score/tot_weight\n",
    "        "
   ]
  },
  {
   "cell_type": "code",
   "execution_count": 19,
   "metadata": {
    "collapsed": false
   },
   "outputs": [
    {
     "data": {
      "text/plain": [
       "0.58519942046426543"
      ]
     },
     "execution_count": 19,
     "metadata": {},
     "output_type": "execute_result"
    }
   ],
   "source": [
    "fitness(features, businesses, combos, 0.4, 5)"
   ]
  },
  {
   "cell_type": "code",
   "execution_count": null,
   "metadata": {
    "collapsed": true
   },
   "outputs": [],
   "source": []
  }
 ],
 "metadata": {
  "kernelspec": {
   "display_name": "Python 3",
   "language": "python",
   "name": "python3"
  },
  "language_info": {
   "codemirror_mode": {
    "name": "ipython",
    "version": 3
   },
   "file_extension": ".py",
   "mimetype": "text/x-python",
   "name": "python",
   "nbconvert_exporter": "python",
   "pygments_lexer": "ipython3",
   "version": "3.4.2"
  }
 },
 "nbformat": 4,
 "nbformat_minor": 0
}
