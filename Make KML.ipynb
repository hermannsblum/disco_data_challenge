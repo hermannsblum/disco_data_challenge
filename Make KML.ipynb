{
 "cells": [
  {
   "cell_type": "code",
   "execution_count": 1,
   "metadata": {
    "collapsed": false
   },
   "outputs": [],
   "source": [
    "from ydc.tools.supercats import add_supercats\n",
    "import import_data\n",
    "import pandas as pd\n",
    "from simplekml import Kml, Style\n",
    "from colorsys import hsv_to_rgb\n",
    "\n",
    "#Little helper function to restrict to one city because google earth is helpless otherwise\n",
    "def get_by_city(city):\n",
    "    return businesses[businesses['city']==city].copy(deep=True)\n",
    "\n",
    "#second helper for color conv, copies from activestate.com and slightly modfied\n",
    "def get_color(hue, saturation):\n",
    "    rgb_tuple = hsv_to_rgb(hue, saturation,1)\n",
    "    \"\"\" convert an (R, G, B) tuple to #RRGGBBff \"\"\"\n",
    "    rgb_tuple = (rgb_tuple[0]*255, rgb_tuple[1]*255, rgb_tuple[2]*255)\n",
    "    hexcolor = '%02x%02x%02x' % rgb_tuple\n",
    "    return hexcolor"
   ]
  },
  {
   "cell_type": "code",
   "execution_count": 2,
   "metadata": {
    "collapsed": true
   },
   "outputs": [],
   "source": [
    "# Import businesses\n",
    "businesses = import_data.import_businesses()\n",
    "(df, cats) = add_supercats(businesses)"
   ]
  },
  {
   "cell_type": "code",
   "execution_count": 6,
   "metadata": {
    "collapsed": false
   },
   "outputs": [],
   "source": [
    "def kml_by_city(city, df, cats):\n",
    "    #Find supercats    \n",
    "    # Prepare KML\n",
    "    kml = Kml()\n",
    "\n",
    "    # Create folder for businesses\n",
    "    fol = kml.newfolder(name=\"Businesses\")\n",
    "\n",
    "    # Create subfolder for every category and save them in dictionary\n",
    "    subfolders = {key: fol.newfolder(name=cats[key]['name']) for key in cats}\n",
    "\n",
    "    # More subfolders for subcats\n",
    "    subsubfolders = {}\n",
    "    for superkey in subfolders:\n",
    "        subcats = cats[superkey]['sub_categories']\n",
    "        subsubfolders[superkey] = {key: subfolders[superkey].newfolder(name=subcats[key]['name']) for key in subcats}\n",
    "        \n",
    "    \n",
    "    \n",
    "    #Create color for every category and also save them in dict\n",
    "    styles = {}\n",
    "    for superkey in cats:\n",
    "        subcats = cats[superkey]['sub_categories']\n",
    "        # Create dict of dicts with entries for every subcategory\n",
    "        styles[superkey] = {key: Style() for key in subcats}\n",
    "        for key in subcats:\n",
    "            styles[superkey][key].labelstyle.scale = 0\n",
    "            hue = superkey/len(cats.keys())  # Around the circle\n",
    "            sat = 0.5 + key/(2 * len(subcats.keys()))  # Avoid the middle so not everything gets white\n",
    "            styles[superkey][key].iconstyle.icon.href = (\n",
    "                'http://thydzik.com/thydzikGoogleMap/markerlink.php?color=%s' % get_color(hue, sat)\n",
    "            )\n",
    "\n",
    "    #Special case for uncategories (those are -1 and will be black)\n",
    "    styles[-1] = {-1: Style()}\n",
    "    styles[-1][-1].labelstyle.scale = 0\n",
    "    styles[-1][-1].iconstyle.icon.href = 'http://thydzik.com/thydzikGoogleMap/markerlink.php?color=000000'\n",
    "    \n",
    "    for item in df.loc[df['city']==city ,('name', 'longitude', 'latitude','super_category','sub_category')].values:\n",
    "        pnt = subsubfolders[item[3]][item[4]].newpoint(name=item[0], coords=[(item[1],item[2])])\n",
    "        pnt.style = styles[item[3]][item[4]]\n",
    "\n",
    "    kml.save(\"%s.kml\" % city)"
   ]
  },
  {
   "cell_type": "code",
   "execution_count": 7,
   "metadata": {
    "collapsed": false
   },
   "outputs": [],
   "source": [
    "kml_by_city('Las Vegas', df,cats)"
   ]
  },
  {
   "cell_type": "code",
   "execution_count": null,
   "metadata": {
    "collapsed": false
   },
   "outputs": [],
   "source": [
    "type(df.loc[0,'sub_category'].astype(int))"
   ]
  },
  {
   "cell_type": "code",
   "execution_count": null,
   "metadata": {
    "collapsed": true
   },
   "outputs": [],
   "source": []
  }
 ],
 "metadata": {
  "kernelspec": {
   "display_name": "Python 3",
   "language": "python",
   "name": "python3"
  },
  "language_info": {
   "codemirror_mode": {
    "name": "ipython",
    "version": 3
   },
   "file_extension": ".py",
   "mimetype": "text/x-python",
   "name": "python",
   "nbconvert_exporter": "python",
   "pygments_lexer": "ipython3",
   "version": "3.4.2"
  }
 },
 "nbformat": 4,
 "nbformat_minor": 0
}
