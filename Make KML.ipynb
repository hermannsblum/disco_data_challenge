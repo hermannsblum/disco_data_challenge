{
 "cells": [
  {
   "cell_type": "code",
   "execution_count": 18,
   "metadata": {
    "collapsed": false
   },
   "outputs": [],
   "source": [
    "from supercats import add_supercats\n",
    "import import_data\n",
    "import pandas as pd\n",
    "from simplekml import Kml, Style\n",
    "from colorsys import hsv_to_rgb as color\n",
    "\n",
    "#Little helper function to restrict to one city because google earth is helpless otherwise\n",
    "def get_by_city(city):\n",
    "    return businesses[businesses['city']==city].copy(deep=True)\n",
    "\n",
    "#second helper for color conv, copies from activestate.com and slightly modfied\n",
    "def format_color(rgb_tuple):\n",
    "    \"\"\" convert an (R, G, B) tuple to #RRGGBBff \"\"\"\n",
    "    rgb_tuple = (rgb_tuple[0]*255, rgb_tuple[1]*255, rgb_tuple[2]*255)\n",
    "    hexcolor = '%02x%02x%02x' % rgb_tuple\n",
    "    return hexcolor"
   ]
  },
  {
   "cell_type": "code",
   "execution_count": 10,
   "metadata": {
    "collapsed": true
   },
   "outputs": [],
   "source": [
    "# Import businesses\n",
    "businesses = import_data.import_businesses()"
   ]
  },
  {
   "cell_type": "code",
   "execution_count": 11,
   "metadata": {
    "collapsed": false
   },
   "outputs": [],
   "source": [
    "# Add supercats\n",
    "(df, supercats) = add_supercats(businesses)"
   ]
  },
  {
   "cell_type": "code",
   "execution_count": 35,
   "metadata": {
    "collapsed": false
   },
   "outputs": [],
   "source": [
    "def kml_by_city(city):\n",
    "    #Find supercats\n",
    "    (df, supercats) = add_supercats(get_by_city('Edinburgh'))\n",
    "    \n",
    "    # Prepare KML\n",
    "    kml = Kml()\n",
    "\n",
    "    #Create folder for businesses\n",
    "    fol = kml.newfolder(name=\"Businesses\")\n",
    "\n",
    "    #Create subfolder for every category and save them in dictionary\n",
    "    subfolders = {key: fol.newfolder(name=supercats[key]) for key in supercats}\n",
    "\n",
    "    #Create color for every category and also save them in dict\n",
    "    styles = {key: Style() for key in supercats}\n",
    "    for key in supercats:\n",
    "        styles[key].labelstyle.scale = 0\n",
    "        styles[key].iconstyle.icon.href = 'http://thydzik.com/thydzikGoogleMap/markerlink.php?color=%s' % format_color(color(key/len(supercats), 1, 1))\n",
    "\n",
    "    #Special case for uncategories (those are -1 and will be black)\n",
    "    styles[-1] = Style()\n",
    "    styles[-1].labelstyle.scale = 0\n",
    "    styles[-1].iconstyle.icon.href = 'http://thydzik.com/thydzikGoogleMap/markerlink.php?color=000000'\n",
    "    \n",
    "    for item in df[['name', 'longitude', 'latitude','super category']].values:\n",
    "        pnt = subfolders[item[3]].newpoint(name=item[0], coords=[(item[1],item[2])])\n",
    "        pnt.style = styles[item[3]]\n",
    "\n",
    "    kml.save(\"%s.kml\" % city)"
   ]
  },
  {
   "cell_type": "code",
   "execution_count": 13,
   "metadata": {
    "collapsed": true
   },
   "outputs": [],
   "source": [
    "for item in get_by_city('Las Vegas')[['name', 'longitude', 'latitude','super category']].values:\n",
    "    pnt = subfolders[item[3]].newpoint(name=item[0], coords=[(item[1],item[2])])\n",
    "    pnt.style = styles[item[3]]\n",
    "\n",
    "kml.save(\"busi.kml\")"
   ]
  },
  {
   "cell_type": "code",
   "execution_count": 28,
   "metadata": {
    "collapsed": false
   },
   "outputs": [],
   "source": [
    "(df, supercats) = add_supercats(get_by_city('Edinburgh'))"
   ]
  },
  {
   "cell_type": "code",
   "execution_count": 27,
   "metadata": {
    "collapsed": false
   },
   "outputs": [],
   "source": [
    "for item in df[['name', 'longitude', 'latitude','super category']].values:\n",
    "    pnt = subfolders[item[3]].newpoint(name=item[0], coords=[(item[1],item[2])])\n",
    "    pnt.style = styles[item[3]]\n",
    "\n",
    "kml.save(\"lasvegas.kml\")"
   ]
  },
  {
   "cell_type": "code",
   "execution_count": 36,
   "metadata": {
    "collapsed": false
   },
   "outputs": [],
   "source": [
    "kml_by_city('Edinburgh')"
   ]
  },
  {
   "cell_type": "code",
   "execution_count": null,
   "metadata": {
    "collapsed": true
   },
   "outputs": [],
   "source": []
  }
 ],
 "metadata": {
  "kernelspec": {
   "display_name": "Python 3",
   "language": "python",
   "name": "python3"
  },
  "language_info": {
   "codemirror_mode": {
    "name": "ipython",
    "version": 3
   },
   "file_extension": ".py",
   "mimetype": "text/x-python",
   "name": "python",
   "nbconvert_exporter": "python",
   "pygments_lexer": "ipython3",
   "version": "3.4.2"
  }
 },
 "nbformat": 4,
 "nbformat_minor": 0
}
