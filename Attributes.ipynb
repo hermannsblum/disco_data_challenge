{
 "cells": [
  {
   "cell_type": "code",
   "execution_count": 126,
   "metadata": {
    "collapsed": true
   },
   "outputs": [],
   "source": [
    "import pandas as pd\n",
    "import json\n",
    "import re\n",
    "import numpy as np\n",
    "import import_data"
   ]
  },
  {
   "cell_type": "code",
   "execution_count": 4,
   "metadata": {
    "collapsed": true
   },
   "outputs": [],
   "source": [
    "businesses = import_data.import_businesses()"
   ]
  },
  {
   "cell_type": "code",
   "execution_count": 5,
   "metadata": {
    "collapsed": false
   },
   "outputs": [
    {
     "data": {
      "text/plain": [
       "array(['attributes', 'business_id', 'categories', 'city', 'full_address',\n",
       "       'hours', 'latitude', 'longitude', 'name', 'neighborhoods', 'open',\n",
       "       'review_count', 'stars', 'state', 'type'], dtype=object)"
      ]
     },
     "execution_count": 5,
     "metadata": {},
     "output_type": "execute_result"
    }
   ],
   "source": [
    "businesses.columns.values"
   ]
  },
  {
   "cell_type": "code",
   "execution_count": 10,
   "metadata": {
    "collapsed": false
   },
   "outputs": [],
   "source": [
    "attributes = businesses['attributes'].apply(pd.Series)"
   ]
  },
  {
   "cell_type": "code",
   "execution_count": 15,
   "metadata": {
    "collapsed": false
   },
   "outputs": [
    {
     "data": {
      "text/plain": [
       "Accepts Credit Cards         45072\n",
       "Price Range                  41694\n",
       "Parking                      37967\n",
       "Good for Kids                25371\n",
       "Outdoor Seating              23033\n",
       "Good For Groups              22406\n",
       "Alcohol                      20457\n",
       "Attire                       20390\n",
       "Take-out                     20300\n",
       "Delivery                     19924\n",
       "Takes Reservations           19801\n",
       "Wheelchair Accessible        19527\n",
       "Has TV                       19338\n",
       "Good For                     19288\n",
       "Waiter Service               18863\n",
       "Ambience                     18547\n",
       "Noise Level                  18519\n",
       "Wi-Fi                        17898\n",
       "Caters                       13116\n",
       "By Appointment Only           7922\n",
       "Smoking                       4088\n",
       "Happy Hour                    3728\n",
       "Music                         3700\n",
       "Coat Check                    3699\n",
       "Dogs Allowed                  3591\n",
       "Good For Dancing              3581\n",
       "Drive-Thru                    2569\n",
       "Good For Kids                 2345\n",
       "BYOB/Corkage                  1315\n",
       "BYOB                           866\n",
       "Corkage                        655\n",
       "Accepts Insurance              458\n",
       "Order at Counter               384\n",
       "Open 24 Hours                  334\n",
       "Hair Types Specialized In      326\n",
       "Ages Allowed                   235\n",
       "Dietary Restrictions           175\n",
       "Payment Types                   42\n",
       "dtype: int64"
      ]
     },
     "execution_count": 15,
     "metadata": {},
     "output_type": "execute_result"
    }
   ],
   "source": [
    "attributes.count().order(ascending=False)"
   ]
  },
  {
   "cell_type": "code",
   "execution_count": 92,
   "metadata": {
    "collapsed": false
   },
   "outputs": [],
   "source": [
    "businesses['with_price'] = businesses.apply(lambda x: 'Price Range' in x.attributes.keys(), axis=1)"
   ]
  },
  {
   "cell_type": "code",
   "execution_count": 115,
   "metadata": {
    "collapsed": false
   },
   "outputs": [],
   "source": [
    "cities = pd.DataFrame()"
   ]
  },
  {
   "cell_type": "code",
   "execution_count": 116,
   "metadata": {
    "collapsed": true
   },
   "outputs": [],
   "source": [
    "cities['all'] = pd.pivot_table(businesses, values='business_id', columns='city', aggfunc='count').order(ascending=False)"
   ]
  },
  {
   "cell_type": "code",
   "execution_count": 118,
   "metadata": {
    "collapsed": false
   },
   "outputs": [],
   "source": [
    "cities['with_price'] = pd.pivot_table(businesses[businesses['with_price'] == True], values='business_id', columns='city', aggfunc='count').order(ascending=False)"
   ]
  },
  {
   "cell_type": "code",
   "execution_count": 120,
   "metadata": {
    "collapsed": false
   },
   "outputs": [],
   "source": [
    "cities['rate'] = cities['with_price'] / cities['all']"
   ]
  },
  {
   "cell_type": "code",
   "execution_count": 124,
   "metadata": {
    "collapsed": false
   },
   "outputs": [
    {
     "data": {
      "text/plain": [
       "city\n",
       "Montréal      0.852941\n",
       "Montreal      0.776734\n",
       "Edinburgh     0.768393\n",
       "Pittsburgh    0.766153\n",
       "Madison       0.756542\n",
       "Charlotte     0.736979\n",
       "Glendale      0.669572\n",
       "Las Vegas     0.660099\n",
       "Scottsdale    0.644714\n",
       "Tempe         0.644376\n",
       "Chandler      0.633101\n",
       "Phoenix       0.625089\n",
       "Henderson     0.606103\n",
       "Mesa          0.605454\n",
       "Gilbert       0.597783\n",
       "Name: rate, dtype: float64"
      ]
     },
     "execution_count": 124,
     "metadata": {},
     "output_type": "execute_result"
    }
   ],
   "source": [
    "cities[cities['all'] > 1000]['rate'].order(ascending=False)"
   ]
  },
  {
   "cell_type": "code",
   "execution_count": 132,
   "metadata": {
    "collapsed": false
   },
   "outputs": [
    {
     "data": {
      "text/plain": [
       "0.66234478540388764"
      ]
     },
     "execution_count": 132,
     "metadata": {},
     "output_type": "execute_result"
    }
   ],
   "source": [
    "cities[cities['rate'] != 1]['rate'].mean()"
   ]
  },
  {
   "cell_type": "code",
   "execution_count": 129,
   "metadata": {
    "collapsed": false
   },
   "outputs": [
    {
     "data": {
      "text/plain": [
       "city\n",
       "Las Vegas     8978\n",
       "Phoenix       5257\n",
       "Charlotte     3113\n",
       "Scottsdale    2604\n",
       "Edinburgh     2329\n",
       "Pittsburgh    2087\n",
       "Montréal      1595\n",
       "Tempe         1455\n",
       "Mesa          1421\n",
       "Madison       1330\n",
       "Henderson     1291\n",
       "Chandler      1182\n",
       "Montreal      1075\n",
       "Name: with_price, dtype: float64"
      ]
     },
     "execution_count": 129,
     "metadata": {},
     "output_type": "execute_result"
    }
   ],
   "source": [
    "cities[cities['with_price'] > 1000]['with_price'].order(ascending=False)"
   ]
  },
  {
   "cell_type": "code",
   "execution_count": null,
   "metadata": {
    "collapsed": true
   },
   "outputs": [],
   "source": []
  }
 ],
 "metadata": {
  "kernelspec": {
   "display_name": "Python 3",
   "language": "python",
   "name": "python3"
  },
  "language_info": {
   "codemirror_mode": {
    "name": "ipython",
    "version": 3
   },
   "file_extension": ".py",
   "mimetype": "text/x-python",
   "name": "python",
   "nbconvert_exporter": "python",
   "pygments_lexer": "ipython3",
   "version": "3.4.3"
  }
 },
 "nbformat": 4,
 "nbformat_minor": 0
}
