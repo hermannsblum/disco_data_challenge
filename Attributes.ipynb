{
 "cells": [
  {
   "cell_type": "code",
   "execution_count": 2,
   "metadata": {
    "collapsed": true
   },
   "outputs": [],
   "source": [
    "import pandas as pd\n",
    "import json\n",
    "import re\n",
    "import numpy as np\n",
    "import import_data"
   ]
  },
  {
   "cell_type": "code",
   "execution_count": 3,
   "metadata": {
    "collapsed": true
   },
   "outputs": [],
   "source": [
    "businesses = import_data.import_businesses()"
   ]
  },
  {
   "cell_type": "code",
   "execution_count": 4,
   "metadata": {
    "collapsed": false
   },
   "outputs": [
    {
     "data": {
      "text/plain": [
       "array(['attributes', 'business_id', 'categories', 'city', 'full_address',\n",
       "       'hours', 'latitude', 'longitude', 'name', 'neighborhoods', 'open',\n",
       "       'review_count', 'stars', 'state', 'type'], dtype=object)"
      ]
     },
     "execution_count": 4,
     "metadata": {},
     "output_type": "execute_result"
    }
   ],
   "source": [
    "businesses.columns.values"
   ]
  },
  {
   "cell_type": "code",
   "execution_count": 5,
   "metadata": {
    "collapsed": false
   },
   "outputs": [],
   "source": [
    "attributes = businesses['attributes'].apply(pd.Series)"
   ]
  },
  {
   "cell_type": "code",
   "execution_count": 6,
   "metadata": {
    "collapsed": false
   },
   "outputs": [
    {
     "data": {
      "text/plain": [
       "Accepts Credit Cards         45072\n",
       "Price Range                  41694\n",
       "Parking                      37967\n",
       "Good for Kids                25371\n",
       "Outdoor Seating              23033\n",
       "Good For Groups              22406\n",
       "Alcohol                      20457\n",
       "Attire                       20390\n",
       "Take-out                     20300\n",
       "Delivery                     19924\n",
       "Takes Reservations           19801\n",
       "Wheelchair Accessible        19527\n",
       "Has TV                       19338\n",
       "Good For                     19288\n",
       "Waiter Service               18863\n",
       "Ambience                     18547\n",
       "Noise Level                  18519\n",
       "Wi-Fi                        17898\n",
       "Caters                       13116\n",
       "By Appointment Only           7922\n",
       "Smoking                       4088\n",
       "Happy Hour                    3728\n",
       "Music                         3700\n",
       "Coat Check                    3699\n",
       "Dogs Allowed                  3591\n",
       "Good For Dancing              3581\n",
       "Drive-Thru                    2569\n",
       "Good For Kids                 2345\n",
       "BYOB/Corkage                  1315\n",
       "BYOB                           866\n",
       "Corkage                        655\n",
       "Accepts Insurance              458\n",
       "Order at Counter               384\n",
       "Open 24 Hours                  334\n",
       "Hair Types Specialized In      326\n",
       "Ages Allowed                   235\n",
       "Dietary Restrictions           175\n",
       "Payment Types                   42\n",
       "dtype: int64"
      ]
     },
     "execution_count": 6,
     "metadata": {},
     "output_type": "execute_result"
    }
   ],
   "source": [
    "attributes.count().order(ascending=False)"
   ]
  },
  {
   "cell_type": "code",
   "execution_count": 7,
   "metadata": {
    "collapsed": false
   },
   "outputs": [],
   "source": [
    "businesses['with_price'] = businesses.apply(lambda x: 'Price Range' in x.attributes.keys(), axis=1)"
   ]
  },
  {
   "cell_type": "code",
   "execution_count": 21,
   "metadata": {
    "collapsed": false
   },
   "outputs": [],
   "source": [
    "cities = pd.DataFrame()"
   ]
  },
  {
   "cell_type": "code",
   "execution_count": 22,
   "metadata": {
    "collapsed": true
   },
   "outputs": [],
   "source": [
    "cities['all'] = businesses.groupby('city')['name'].count()"
   ]
  },
  {
   "cell_type": "code",
   "execution_count": 27,
   "metadata": {
    "collapsed": false
   },
   "outputs": [],
   "source": [
    "cities['with_price'] = businesses[businesses['with_price'] == True].groupby('city')['name'].count()"
   ]
  },
  {
   "cell_type": "code",
   "execution_count": 28,
   "metadata": {
    "collapsed": false
   },
   "outputs": [],
   "source": [
    "cities['rate'] = cities['with_price'] / cities['all']"
   ]
  },
  {
   "cell_type": "code",
   "execution_count": 34,
   "metadata": {
    "collapsed": false
   },
   "outputs": [
    {
     "data": {
      "text/html": [
       "<div style=\"max-height:1000px;max-width:1500px;overflow:auto;\">\n",
       "<table border=\"1\" class=\"dataframe\">\n",
       "  <thead>\n",
       "    <tr style=\"text-align: right;\">\n",
       "      <th></th>\n",
       "      <th>all</th>\n",
       "      <th>with_price</th>\n",
       "      <th>rate</th>\n",
       "    </tr>\n",
       "    <tr>\n",
       "      <th>city</th>\n",
       "      <th></th>\n",
       "      <th></th>\n",
       "      <th></th>\n",
       "    </tr>\n",
       "  </thead>\n",
       "  <tbody>\n",
       "    <tr>\n",
       "      <th>Montréal</th>\n",
       "      <td>1870</td>\n",
       "      <td>1595</td>\n",
       "      <td>0.852941</td>\n",
       "    </tr>\n",
       "    <tr>\n",
       "      <th>Montreal</th>\n",
       "      <td>1384</td>\n",
       "      <td>1075</td>\n",
       "      <td>0.776734</td>\n",
       "    </tr>\n",
       "    <tr>\n",
       "      <th>Edinburgh</th>\n",
       "      <td>3031</td>\n",
       "      <td>2329</td>\n",
       "      <td>0.768393</td>\n",
       "    </tr>\n",
       "    <tr>\n",
       "      <th>Pittsburgh</th>\n",
       "      <td>2724</td>\n",
       "      <td>2087</td>\n",
       "      <td>0.766153</td>\n",
       "    </tr>\n",
       "    <tr>\n",
       "      <th>Madison</th>\n",
       "      <td>1758</td>\n",
       "      <td>1330</td>\n",
       "      <td>0.756542</td>\n",
       "    </tr>\n",
       "    <tr>\n",
       "      <th>Charlotte</th>\n",
       "      <td>4224</td>\n",
       "      <td>3113</td>\n",
       "      <td>0.736979</td>\n",
       "    </tr>\n",
       "    <tr>\n",
       "      <th>Glendale</th>\n",
       "      <td>1377</td>\n",
       "      <td>922</td>\n",
       "      <td>0.669572</td>\n",
       "    </tr>\n",
       "    <tr>\n",
       "      <th>Las Vegas</th>\n",
       "      <td>13601</td>\n",
       "      <td>8978</td>\n",
       "      <td>0.660099</td>\n",
       "    </tr>\n",
       "    <tr>\n",
       "      <th>Scottsdale</th>\n",
       "      <td>4039</td>\n",
       "      <td>2604</td>\n",
       "      <td>0.644714</td>\n",
       "    </tr>\n",
       "    <tr>\n",
       "      <th>Tempe</th>\n",
       "      <td>2258</td>\n",
       "      <td>1455</td>\n",
       "      <td>0.644376</td>\n",
       "    </tr>\n",
       "    <tr>\n",
       "      <th>Chandler</th>\n",
       "      <td>1867</td>\n",
       "      <td>1182</td>\n",
       "      <td>0.633101</td>\n",
       "    </tr>\n",
       "    <tr>\n",
       "      <th>Phoenix</th>\n",
       "      <td>8410</td>\n",
       "      <td>5257</td>\n",
       "      <td>0.625089</td>\n",
       "    </tr>\n",
       "    <tr>\n",
       "      <th>Henderson</th>\n",
       "      <td>2130</td>\n",
       "      <td>1291</td>\n",
       "      <td>0.606103</td>\n",
       "    </tr>\n",
       "    <tr>\n",
       "      <th>Mesa</th>\n",
       "      <td>2347</td>\n",
       "      <td>1421</td>\n",
       "      <td>0.605454</td>\n",
       "    </tr>\n",
       "    <tr>\n",
       "      <th>Gilbert</th>\n",
       "      <td>1263</td>\n",
       "      <td>755</td>\n",
       "      <td>0.597783</td>\n",
       "    </tr>\n",
       "  </tbody>\n",
       "</table>\n",
       "</div>"
      ],
      "text/plain": [
       "              all  with_price      rate\n",
       "city                                   \n",
       "Montréal     1870        1595  0.852941\n",
       "Montreal     1384        1075  0.776734\n",
       "Edinburgh    3031        2329  0.768393\n",
       "Pittsburgh   2724        2087  0.766153\n",
       "Madison      1758        1330  0.756542\n",
       "Charlotte    4224        3113  0.736979\n",
       "Glendale     1377         922  0.669572\n",
       "Las Vegas   13601        8978  0.660099\n",
       "Scottsdale   4039        2604  0.644714\n",
       "Tempe        2258        1455  0.644376\n",
       "Chandler     1867        1182  0.633101\n",
       "Phoenix      8410        5257  0.625089\n",
       "Henderson    2130        1291  0.606103\n",
       "Mesa         2347        1421  0.605454\n",
       "Gilbert      1263         755  0.597783"
      ]
     },
     "execution_count": 34,
     "metadata": {},
     "output_type": "execute_result"
    }
   ],
   "source": [
    "cities[cities['all'] > 1000].sort(columns='rate', ascending=False)"
   ]
  },
  {
   "cell_type": "code",
   "execution_count": 31,
   "metadata": {
    "collapsed": false
   },
   "outputs": [
    {
     "data": {
      "text/plain": [
       "0.66234478540388764"
      ]
     },
     "execution_count": 31,
     "metadata": {},
     "output_type": "execute_result"
    }
   ],
   "source": [
    "cities[cities['rate'] != 1]['rate'].mean()"
   ]
  },
  {
   "cell_type": "code",
   "execution_count": 35,
   "metadata": {
    "collapsed": false
   },
   "outputs": [
    {
     "data": {
      "text/html": [
       "<div style=\"max-height:1000px;max-width:1500px;overflow:auto;\">\n",
       "<table border=\"1\" class=\"dataframe\">\n",
       "  <thead>\n",
       "    <tr style=\"text-align: right;\">\n",
       "      <th></th>\n",
       "      <th>all</th>\n",
       "      <th>with_price</th>\n",
       "      <th>rate</th>\n",
       "    </tr>\n",
       "    <tr>\n",
       "      <th>city</th>\n",
       "      <th></th>\n",
       "      <th></th>\n",
       "      <th></th>\n",
       "    </tr>\n",
       "  </thead>\n",
       "  <tbody>\n",
       "    <tr>\n",
       "      <th>Las Vegas</th>\n",
       "      <td>13601</td>\n",
       "      <td>8978</td>\n",
       "      <td>0.660099</td>\n",
       "    </tr>\n",
       "    <tr>\n",
       "      <th>Phoenix</th>\n",
       "      <td>8410</td>\n",
       "      <td>5257</td>\n",
       "      <td>0.625089</td>\n",
       "    </tr>\n",
       "    <tr>\n",
       "      <th>Charlotte</th>\n",
       "      <td>4224</td>\n",
       "      <td>3113</td>\n",
       "      <td>0.736979</td>\n",
       "    </tr>\n",
       "    <tr>\n",
       "      <th>Scottsdale</th>\n",
       "      <td>4039</td>\n",
       "      <td>2604</td>\n",
       "      <td>0.644714</td>\n",
       "    </tr>\n",
       "    <tr>\n",
       "      <th>Edinburgh</th>\n",
       "      <td>3031</td>\n",
       "      <td>2329</td>\n",
       "      <td>0.768393</td>\n",
       "    </tr>\n",
       "    <tr>\n",
       "      <th>Pittsburgh</th>\n",
       "      <td>2724</td>\n",
       "      <td>2087</td>\n",
       "      <td>0.766153</td>\n",
       "    </tr>\n",
       "    <tr>\n",
       "      <th>Montréal</th>\n",
       "      <td>1870</td>\n",
       "      <td>1595</td>\n",
       "      <td>0.852941</td>\n",
       "    </tr>\n",
       "    <tr>\n",
       "      <th>Tempe</th>\n",
       "      <td>2258</td>\n",
       "      <td>1455</td>\n",
       "      <td>0.644376</td>\n",
       "    </tr>\n",
       "    <tr>\n",
       "      <th>Mesa</th>\n",
       "      <td>2347</td>\n",
       "      <td>1421</td>\n",
       "      <td>0.605454</td>\n",
       "    </tr>\n",
       "    <tr>\n",
       "      <th>Madison</th>\n",
       "      <td>1758</td>\n",
       "      <td>1330</td>\n",
       "      <td>0.756542</td>\n",
       "    </tr>\n",
       "    <tr>\n",
       "      <th>Henderson</th>\n",
       "      <td>2130</td>\n",
       "      <td>1291</td>\n",
       "      <td>0.606103</td>\n",
       "    </tr>\n",
       "    <tr>\n",
       "      <th>Chandler</th>\n",
       "      <td>1867</td>\n",
       "      <td>1182</td>\n",
       "      <td>0.633101</td>\n",
       "    </tr>\n",
       "    <tr>\n",
       "      <th>Montreal</th>\n",
       "      <td>1384</td>\n",
       "      <td>1075</td>\n",
       "      <td>0.776734</td>\n",
       "    </tr>\n",
       "  </tbody>\n",
       "</table>\n",
       "</div>"
      ],
      "text/plain": [
       "              all  with_price      rate\n",
       "city                                   \n",
       "Las Vegas   13601        8978  0.660099\n",
       "Phoenix      8410        5257  0.625089\n",
       "Charlotte    4224        3113  0.736979\n",
       "Scottsdale   4039        2604  0.644714\n",
       "Edinburgh    3031        2329  0.768393\n",
       "Pittsburgh   2724        2087  0.766153\n",
       "Montréal     1870        1595  0.852941\n",
       "Tempe        2258        1455  0.644376\n",
       "Mesa         2347        1421  0.605454\n",
       "Madison      1758        1330  0.756542\n",
       "Henderson    2130        1291  0.606103\n",
       "Chandler     1867        1182  0.633101\n",
       "Montreal     1384        1075  0.776734"
      ]
     },
     "execution_count": 35,
     "metadata": {},
     "output_type": "execute_result"
    }
   ],
   "source": [
    "cities[cities['with_price'] > 1000].sort(columns='with_price', ascending=False)"
   ]
  },
  {
   "cell_type": "code",
   "execution_count": null,
   "metadata": {
    "collapsed": true
   },
   "outputs": [],
   "source": []
  }
 ],
 "metadata": {
  "kernelspec": {
   "display_name": "Python 3",
   "language": "python",
   "name": "python3"
  },
  "language_info": {
   "codemirror_mode": {
    "name": "ipython",
    "version": 3
   },
   "file_extension": ".py",
   "mimetype": "text/x-python",
   "name": "python",
   "nbconvert_exporter": "python",
   "pygments_lexer": "ipython3",
   "version": "3.4.3"
  }
 },
 "nbformat": 4,
 "nbformat_minor": 0
}
