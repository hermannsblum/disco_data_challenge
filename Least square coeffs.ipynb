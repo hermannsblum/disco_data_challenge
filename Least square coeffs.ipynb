{
 "cells": [
  {
   "cell_type": "code",
   "execution_count": 1,
   "metadata": {
    "collapsed": false
   },
   "outputs": [],
   "source": [
    "from ydc.features.get_features import get_features\n",
    "import pandas as pd\n",
    "import numpy as np\n",
    "\n",
    "from pprint import pprint"
   ]
  },
  {
   "cell_type": "code",
   "execution_count": 2,
   "metadata": {
    "collapsed": false,
    "scrolled": true
   },
   "outputs": [
    {
     "name": "stdout",
     "output_type": "stream",
     "text": []
    }
   ],
   "source": [
    "(features, df, box, combos, cells, neighbourhood) = get_features(status=True)"
   ]
  },
  {
   "cell_type": "code",
   "execution_count": 3,
   "metadata": {
    "collapsed": false
   },
   "outputs": [],
   "source": [
    "def _error(df_feat, quality, idx, coeffs):\n",
    "    if idx is not None:\n",
    "        return (quality[idx] - (df_feat[idx] * coeffs).sum(axis=1)).abs().mean()\n",
    "    else:\n",
    "        return (quality - (df_feat * coeffs).sum(axis=1)).abs().mean()\n",
    "    \n",
    "    \n",
    "def get_coeffs_by_cat(df_feat, df_busi, combos):\n",
    "    coeffs = {}\n",
    "    errors = {}\n",
    "    \n",
    "    for combo in combos:\n",
    "        idx = (df_busi['category'] == combo)\n",
    "        \n",
    "        c = get_coeffs(df_feat[idx], df_busi.loc[idx, 'stars'])\n",
    "        coeffs[combo] = c\n",
    "        \n",
    "        errors[combo] = {\n",
    "            \"all\": _error(df_feat, df_busi['stars'], None, c),\n",
    "            \"combo\": _error(df_feat, df_busi['stars'], idx, c),\n",
    "            \"other\": _error(df_feat, df_busi['stars'], -idx, c)\n",
    "        }\n",
    "\n",
    "    return coeffs, errors\n",
    "    \n",
    "def get_coeffs(df_feat, quality):\n",
    "    if (df_feat.empty):\n",
    "        return pd.Series(0, index=df_feat.columns)\n",
    "    \n",
    "    a = df_feat.values\n",
    "    b = quality.values\n",
    "    lstsq_res = np.linalg.lstsq(a,b)[0]\n",
    "    \n",
    "    return pd.Series(lstsq_res, index=df_feat.columns)\n",
    "\n",
    "def find_best_location():\n",
    "    return"
   ]
  },
  {
   "cell_type": "code",
   "execution_count": 5,
   "metadata": {
    "collapsed": false,
    "scrolled": true
   },
   "outputs": [
    {
     "name": "stdout",
     "output_type": "stream",
     "text": [
      "all      11709065.322837\n",
      "combo           0.547884\n",
      "other    11724912.243139\n",
      "dtype: float64\n",
      "---\n",
      "0.710769900863\n"
     ]
    }
   ],
   "source": [
    "coeffs, errors = get_coeffs_by_cat(features, df, combos)\n",
    "print(pd.DataFrame(errors).transpose().mean())\n",
    "\n",
    "c_all = get_coeffs(features,df['stars'])\n",
    "e_all = _error(features, df['stars'], None, c_all)\n",
    "print(\"---\")\n",
    "print(e_all)"
   ]
  },
  {
   "cell_type": "code",
   "execution_count": null,
   "metadata": {
    "collapsed": true
   },
   "outputs": [],
   "source": []
  }
 ],
 "metadata": {
  "kernelspec": {
   "display_name": "Python 3",
   "language": "python",
   "name": "python3"
  },
  "language_info": {
   "codemirror_mode": {
    "name": "ipython",
    "version": 3
   },
   "file_extension": ".py",
   "mimetype": "text/x-python",
   "name": "python",
   "nbconvert_exporter": "python",
   "pygments_lexer": "ipython3",
   "version": "3.4.2"
  }
 },
 "nbformat": 4,
 "nbformat_minor": 0
}
