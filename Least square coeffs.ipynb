{
 "cells": [
  {
   "cell_type": "code",
   "execution_count": 1,
   "metadata": {
    "collapsed": false
   },
   "outputs": [],
   "source": [
    "from ydc.features.get_features import get_features\n",
    "import pandas as pd\n",
    "import numpy as np\n",
    "\n",
    "from pprint import pprint"
   ]
  },
  {
   "cell_type": "code",
   "execution_count": 2,
   "metadata": {
    "collapsed": false,
    "scrolled": true
   },
   "outputs": [
    {
     "name": "stdout",
     "output_type": "stream",
     "text": []
    }
   ],
   "source": [
    "(features, df, box, combos, cells, n_ind, n_dist) = get_features(status=True)"
   ]
  },
  {
   "cell_type": "code",
   "execution_count": 3,
   "metadata": {
    "collapsed": false
   },
   "outputs": [],
   "source": [
    "def _error(df_feat, quality, idx, coeffs):\n",
    "    if idx is not None:\n",
    "        return (quality[idx] - (df_feat[idx] * coeffs).sum(axis=1)).abs().mean()\n",
    "    else:\n",
    "        return (quality - (df_feat * coeffs).sum(axis=1)).abs().mean()\n",
    "    \n",
    "def principal_values(A, n):\n",
    "    U, s, Vt = np.linalg.svd(A, full_matrices=False)\n",
    "    V = Vt.T\n",
    "\n",
    "    # sort the PCs by descending order of the singular values (i.e. by the\n",
    "    # proportion of total variance they explain)\n",
    "    ind = np.argsort(s)[::-1]\n",
    "    U = U[:, ind]\n",
    "    s = s[ind]\n",
    "    V = V[:, ind]\n",
    "\n",
    "    S = np.diag(s)\n",
    "    # if we use only the first 20 PCs the reconstruction is less accurate\n",
    "    Ahat = np.dot(U[:, :n], np.dot(S[:n, :n], V[:,:n].T))\n",
    "    print(\"Using first %s PCs, MSE = %.6G\" %(n, np.mean((A - Ahat)**2)))\n",
    "    \n",
    "    return Ahat\n",
    "\n",
    "def get_coeffs_by_cat(df_feat, df_busi, combos):\n",
    "    coeffs = {}\n",
    "    errors = {}\n",
    "    \n",
    "    for combo in combos:\n",
    "        idx = (df_busi['category'] == combo)\n",
    "        \n",
    "        c = get_coeffs(df_feat[idx], df_busi.loc[idx, 'real_stars'])\n",
    "        coeffs[combo] = c\n",
    "        \n",
    "        errors[combo] = {\n",
    "            \"all\": _error(df_feat, df_busi['real_stars'], None, c),\n",
    "            \"combo\": _error(df_feat, df_busi['real_stars'], idx, c),\n",
    "            \"other\": _error(df_feat, df_busi['real_stars'], -idx, c)\n",
    "        }\n",
    "\n",
    "    return coeffs, errors\n",
    "    \n",
    "def get_coeffs(df_feat, quality):\n",
    "    if (df_feat.empty):\n",
    "        return pd.Series(0, index=df_feat.columns)\n",
    "    \n",
    "    a = df_feat.values\n",
    "    b = quality.values\n",
    "    lstsq_res = np.linalg.lstsq(a,b)[0]\n",
    "    \n",
    "    return pd.Series(lstsq_res, index=df_feat.columns)\n",
    "\n",
    "def find_best_location():\n",
    "    return\n"
   ]
  },
  {
   "cell_type": "code",
   "execution_count": 5,
   "metadata": {
    "collapsed": false
   },
   "outputs": [
    {
     "name": "stdout",
     "output_type": "stream",
     "text": [
      "Guessing a constant 3.659542\n",
      "error-mean: 0.733059\n",
      "error-std:  0.547270\n"
     ]
    }
   ],
   "source": [
    "# Compare with just a constant prediction\n",
    "error = abs(df['real_stars'] - df['real_stars'].mean())\n",
    "print(\"Guessing a constant %f\" % df['real_stars'].mean())\n",
    "print(\"error-mean: %f\" % error.mean())\n",
    "print(\"error-std:  %f\" % error.std())"
   ]
  },
  {
   "cell_type": "code",
   "execution_count": 6,
   "metadata": {
    "collapsed": false,
    "scrolled": true
   },
   "outputs": [
    {
     "name": "stdout",
     "output_type": "stream",
     "text": [
      "0.718404888177\n"
     ]
    }
   ],
   "source": [
    "c_all = get_coeffs(features,df['real_stars'])\n",
    "e_all = _error(features, df['real_stars'], None, c_all)\n",
    "print(e_all)"
   ]
  },
  {
   "cell_type": "code",
   "execution_count": 26,
   "metadata": {
    "collapsed": true
   },
   "outputs": [],
   "source": [
    "from sklearn import linear_model"
   ]
  },
  {
   "cell_type": "code",
   "execution_count": 31,
   "metadata": {
    "collapsed": false
   },
   "outputs": [
    {
     "name": "stdout",
     "output_type": "stream",
     "text": [
      "error-mean: 0.718405\n",
      "error-std:  0.539900\n"
     ]
    }
   ],
   "source": [
    "mdl = linear_model.Ridge(alpha=.1)\n",
    "\n",
    "A = features.values\n",
    "b = df['real_stars'].values\n",
    "mdl.fit(A, b)\n",
    "\n",
    "error = abs(mdl.predict(A) - b)\n",
    "print(\"error-mean: %f\" % error.mean())\n",
    "print(\"error-std:  %f\" % error.std())"
   ]
  },
  {
   "cell_type": "code",
   "execution_count": 28,
   "metadata": {
    "collapsed": false
   },
   "outputs": [],
   "source": [
    "from sklearn.preprocessing import PolynomialFeatures\n",
    "from sklearn.linear_model import Ridge\n",
    "from sklearn.pipeline import Pipeline\n",
    "model = Pipeline([('poly', PolynomialFeatures(degree=2)),\n",
    "                  ('linear', Ridge(alpha=.1))])"
   ]
  },
  {
   "cell_type": "code",
   "execution_count": 29,
   "metadata": {
    "collapsed": false
   },
   "outputs": [],
   "source": [
    "A = features.values\n",
    "b = df['real_stars'].values\n",
    "mdl = model.fit(A, b)"
   ]
  },
  {
   "cell_type": "code",
   "execution_count": 31,
   "metadata": {
    "collapsed": false
   },
   "outputs": [
    {
     "name": "stdout",
     "output_type": "stream",
     "text": [
      "error-mean: 0.698239\n",
      "error-std:  0.530030\n"
     ]
    }
   ],
   "source": [
    "error = abs(mdl.predict(A) - b)\n",
    "print(\"error-mean: %f\" % error.mean())\n",
    "print(\"error-std:  %f\" % error.std())"
   ]
  },
  {
   "cell_type": "code",
   "execution_count": 3,
   "metadata": {
    "collapsed": false
   },
   "outputs": [
    {
     "data": {
      "text/plain": [
       "Index(['weighted review-count', 'reviews_mean', 'reviews_median',\n",
       "       'reviews_std', 'reviews_max', 'reviews_min', 'reviews_sum',\n",
       "       'neighbourhood_radius', 'stars_mean', 'stars_median', 'stars_std',\n",
       "       'stars_max', 'stars_min', 'stars_sum'],\n",
       "      dtype='object')"
      ]
     },
     "execution_count": 3,
     "metadata": {},
     "output_type": "execute_result"
    }
   ],
   "source": [
    "features.columns"
   ]
  },
  {
   "cell_type": "code",
   "execution_count": 13,
   "metadata": {
    "collapsed": false
   },
   "outputs": [],
   "source": [
    "ret = n_dist.apply(np.max)\n",
    "ret.name = 'neighbourhood_rrawr'"
   ]
  },
  {
   "cell_type": "code",
   "execution_count": 15,
   "metadata": {
    "collapsed": false
   },
   "outputs": [],
   "source": [
    "from ydc.tools.import_data import import_reviews"
   ]
  },
  {
   "cell_type": "code",
   "execution_count": 17,
   "metadata": {
    "collapsed": false
   },
   "outputs": [],
   "source": [
    "reviews = import_reviews(\n",
    "        fields=['business_id', 'stars', 'date', 'real_date'])"
   ]
  },
  {
   "cell_type": "code",
   "execution_count": 18,
   "metadata": {
    "collapsed": false
   },
   "outputs": [
    {
     "data": {
      "text/plain": [
       "<pandas.core.groupby.DataFrameGroupBy object at 0x000000001C9A7208>"
      ]
     },
     "execution_count": 18,
     "metadata": {},
     "output_type": "execute_result"
    }
   ],
   "source": [
    "reviews.groupby('business_id')"
   ]
  },
  {
   "cell_type": "code",
   "execution_count": null,
   "metadata": {
    "collapsed": true
   },
   "outputs": [],
   "source": []
  }
 ],
 "metadata": {
  "kernelspec": {
   "display_name": "Python 3",
   "language": "python",
   "name": "python3"
  },
  "language_info": {
   "codemirror_mode": {
    "name": "ipython",
    "version": 3
   },
   "file_extension": ".py",
   "mimetype": "text/x-python",
   "name": "python",
   "nbconvert_exporter": "python",
   "pygments_lexer": "ipython3",
   "version": "3.4.2"
  }
 },
 "nbformat": 4,
 "nbformat_minor": 0
}
