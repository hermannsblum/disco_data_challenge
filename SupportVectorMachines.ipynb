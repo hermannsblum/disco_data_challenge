{
 "cells": [
  {
   "cell_type": "code",
   "execution_count": 1,
   "metadata": {
    "collapsed": false
   },
   "outputs": [],
   "source": [
    "import pandas as pd\n",
    "import numpy as np\n",
    "from sklearn import svm\n",
    "import matplotlib.pyplot as plt\n",
    "from ydc.tools import import_data, review_analysis\n",
    "from ydc.tools.supercats import add_supercats\n",
    "from ydc.tools.cache import cache_result\n",
    "from ydc.features import get_features\n",
    "from operator import itemgetter\n",
    "from haversine import haversine\n",
    "from random import sample\n",
    "%matplotlib inline"
   ]
  },
  {
   "cell_type": "code",
   "execution_count": 2,
   "metadata": {
    "collapsed": false
   },
   "outputs": [],
   "source": [
    "# reviews = import_data.import_reviews(fields=['business_id', 'stars', 'date', 'real_date'])"
   ]
  },
  {
   "cell_type": "code",
   "execution_count": 3,
   "metadata": {
    "collapsed": true
   },
   "outputs": [],
   "source": [
    "# businesses = import_data.import_businesses()"
   ]
  },
  {
   "cell_type": "code",
   "execution_count": 2,
   "metadata": {
    "collapsed": false
   },
   "outputs": [
    {
     "name": "stdout",
     "output_type": "stream",
     "text": [
      "Successfully imported reviews with columns ['business_id' 'date' 'stars' 'real_date']\n"
     ]
    }
   ],
   "source": [
    "(features, df, box, combos, cells, n_ind, n_dist) = get_features.get_features(status=True, new_cache=True)"
   ]
  },
  {
   "cell_type": "code",
   "execution_count": 6,
   "metadata": {
    "collapsed": false
   },
   "outputs": [],
   "source": [
    "def divide_good_and_bad(dataframe, combos, key_feature, percentage):\n",
    "    \"\"\"\n",
    "    Take the given percentage of the dataframe and mark them as \"good\"\n",
    "    Done for each category separately, sort by column \"key_feature\"\n",
    "    \n",
    "    \"\"\"\n",
    "    # Initialize dataframe sorted by stars and setup new column \"good\" with False as default\n",
    "    dataframe = dataframe.sort(columns=key_feature, ascending=False)\n",
    "    dataframe['good'] = False\n",
    "    \n",
    "    for combo in combos:\n",
    "        # Every (super/sub) category combo\n",
    "        total = (df['category']==combo).sum()\n",
    "        \n",
    "        # Find n (total number times percentage)\n",
    "        num_good = int(round(total * percentage))\n",
    "        dataframe['good']\n",
    "        \n",
    "        # Get index from best n\n",
    "        idx = dataframe.loc[df['category']==combo, :].head(num_good).index\n",
    "        \n",
    "        # Set those best ones to true\n",
    "        dataframe.loc[idx, 'good'] = True\n",
    "    \n",
    "    # Restore correct order (sorting scrambled it)\n",
    "    return dataframe.sort_index()"
   ]
  },
  {
   "cell_type": "code",
   "execution_count": 7,
   "metadata": {
    "collapsed": false
   },
   "outputs": [],
   "source": [
    "businesses = divide_good_and_bad(df, combos, 'stars', 0.3)"
   ]
  },
  {
   "cell_type": "code",
   "execution_count": 9,
   "metadata": {
    "collapsed": false
   },
   "outputs": [
    {
     "data": {
      "text/plain": [
       "category\n",
       "(-1, -1)    0.299213\n",
       "(0, -1)     0.301887\n",
       "(0, 0)      0.300281\n",
       "(0, 1)      0.299786\n",
       "(0, 2)      0.297297\n",
       "(0, 3)      0.299507\n",
       "(1, -1)     0.304348\n",
       "(1, 0)      0.299762\n",
       "(1, 1)      0.301887\n",
       "(1, 2)      0.300280\n",
       "(1, 3)      0.299539\n",
       "(1, 4)      0.299614\n",
       "(1, 5)      0.296296\n",
       "(2, -1)     0.299296\n",
       "(2, 0)      0.299966\n",
       "(2, 1)      0.300023\n",
       "(2, 2)      0.299754\n",
       "(2, 3)      0.300056\n",
       "(3, -1)     0.298851\n",
       "(3, 0)      0.300112\n",
       "(3, 1)      0.300195\n",
       "(3, 2)      0.299349\n",
       "(3, 3)      0.300191\n",
       "(3, 4)      0.300437\n",
       "(3, 5)      0.300341\n",
       "(4, -1)     0.312500\n",
       "(4, 0)      0.299867\n",
       "(4, 1)      0.299938\n",
       "(4, 2)      0.297101\n",
       "(4, 3)      0.301370\n",
       "(5, -1)     0.285714\n",
       "(5, 0)      0.299127\n",
       "(5, 1)      0.300314\n",
       "(5, 2)      0.296296\n",
       "(5, 3)      0.300000\n",
       "(5, 4)      0.300000\n",
       "(6, -1)     0.300000\n",
       "(6, 0)      0.299715\n",
       "(6, 1)      0.300668\n",
       "(6, 2)      0.298578\n",
       "(6, 3)      0.299712\n",
       "(6, 4)      0.300000\n",
       "(7, -1)     0.285714\n",
       "(7, 0)      0.300116\n",
       "(7, 1)      0.500000\n",
       "(7, 2)      0.301370\n",
       "(7, 3)      0.299862\n",
       "(7, 4)      0.298319\n",
       "(7, 5)      0.307692\n",
       "(8, -1)     0.306452\n",
       "(8, 0)      0.299834\n",
       "(8, 1)      0.299933\n",
       "(8, 2)      0.300268\n",
       "(9, -1)     0.250000\n",
       "(9, 0)      0.300000\n",
       "(9, 1)      0.297143\n",
       "Name: good, dtype: float64"
      ]
     },
     "execution_count": 9,
     "metadata": {},
     "output_type": "execute_result"
    }
   ],
   "source": [
    "check = businesses.groupby('category')['good']\n",
    "check.sum()/check.count()"
   ]
  },
  {
   "cell_type": "code",
   "execution_count": null,
   "metadata": {
    "collapsed": false
   },
   "outputs": [],
   "source": [
    "# Initialize support vector machine\n",
    "clf = svm.SVC()\n",
    "# Fit using \"good\" as determined before\n",
    "clf.fit(features.values, businesses['good'].values)"
   ]
  },
  {
   "cell_type": "code",
   "execution_count": null,
   "metadata": {
    "collapsed": false
   },
   "outputs": [],
   "source": [
    "clf.score(features.values, businesses['good'].values)"
   ]
  },
  {
   "cell_type": "code",
   "execution_count": 9,
   "metadata": {
    "collapsed": false
   },
   "outputs": [
    {
     "name": "stdout",
     "output_type": "stream",
     "text": [
      "for training data: 0.967741935483871\n",
      "for whole data-set: 0.699323850896861\n"
     ]
    }
   ],
   "source": [
    "# choose only (1,3) fast food\n",
    "subcat_filter = df['category'] == (1,3)\n",
    "subcat_clf = svm.SVC()\n",
    "subcat_clf.fit(features[subcat_filter].values, businesses[subcat_filter]['good'].values)\n",
    "score1 = subcat_clf.score(features[subcat_filter].values, businesses[subcat_filter]['good'].values)\n",
    "print('for training data: {}'.format(score1))\n",
    "score2 = subcat_clf.score(features.values, businesses['good'].values)\n",
    "print('for whole data-set: {}'.format(score2))"
   ]
  },
  {
   "cell_type": "code",
   "execution_count": 43,
   "metadata": {
    "collapsed": false,
    "scrolled": false
   },
   "outputs": [],
   "source": []
  },
  {
   "cell_type": "code",
   "execution_count": 44,
   "metadata": {
    "collapsed": false
   },
   "outputs": [
    {
     "name": "stdout",
     "output_type": "stream",
     "text": [
      "Percentage:\n",
      "Automotive/Car Wash: 0.699656.4\n",
      "Home Services/Professional Services: 0.675862.4\n",
      "Pets/Pet Stores: 0.702857.4\n",
      "Shopping/Fashion: 0.691822.4\n",
      "Food/Desserts: 0.683748.4\n",
      "Shopping/Sporting Goods: 0.688043.4\n",
      "Restaurants/Fast Food: 0.663328.4\n",
      "Automotive/Uncategorized: 0.700000.4\n",
      "Event Planning & Services/Transportation: 0.692857.4\n",
      "Health & Medical/Doctors: 0.670727.4\n",
      "Active Life/Fitness & Instruction: 0.692118.4\n",
      "Home Services/Uncategorized: 0.666667.4\n",
      "Beauty & Spas/Uncategorized: 0.600000.4\n",
      "Automotive/Motorcycle Repair: 0.717241.4\n",
      "Beauty & Spas/Skin Care: 0.704444.4\n",
      "Home Services/Local Services: 0.677591.4\n",
      "Pets/Pet Services: 0.690761.4\n",
      "Shopping/Books, Mags, Music & Video: 0.699522.4\n",
      "Food/Uncategorized: 0.696000.4\n",
      "Food/Grocery: 0.694790.4\n",
      "Event Planning & Services/Arts & Entertainment: 0.679327.4\n",
      "Home Services/Mass Media: 0.700000.4\n",
      "Health & Medical/Chiropractors: 0.718033.4\n",
      "Restaurants/Breakfast & Brunch: 0.677419.4\n",
      "Health & Medical/Optometrists: 0.718750.4\n",
      "Beauty & Spas/Hair Salons: 0.708501.4\n",
      "Home Services/Printing Services: 0.713208.4\n",
      "Health & Medical/Uncategorized: 0.709091.4\n",
      "Event Planning & Services/Public Services & Government: 0.680952.4\n",
      "Health & Medical/Dentists: 0.687162.4\n",
      "Active Life/Parks: 0.695327.4\n",
      "Food/Specialty Food: 0.686577.4\n",
      "Restaurants/Uncategorized: 0.707018.4\n",
      "Event Planning & Services/Hotels & Travel: 0.689744.4\n",
      "Home Services/Real Estate: 0.707336.4\n",
      "Automotive/RV Dealers: 0.680000.4\n",
      "Active Life/Uncategorized: 0.666667.4\n",
      "Beauty & Spas/Tattoo: 0.709091.4\n",
      "Home Services/Contractors: 0.694048.4\n",
      "Shopping/Jewelry: 0.692308.4\n",
      "Active Life/Education: 0.686631.4\n",
      "Automotive/Auto Repair: 0.685217.4\n",
      "Health & Medical/Diagnostic Services: 0.700000.4\n",
      "Event Planning & Services/Party & Event Planning: 0.690000.4\n",
      "Shopping/Arts & Crafts: 0.693659.4\n",
      "Uncategorized/Uncategorized: 0.686700.4\n",
      "Shopping/Uncategorized: 0.671942.4\n",
      "Event Planning & Services/Uncategorized: 0.700000.4\n",
      "Automotive/Auto Glass Services: 0.707368.4\n",
      "Restaurants/Nightlife: 0.683635.4\n",
      "Beauty & Spas/Tanning: 0.672414.4\n",
      "Restaurants/Chinese: 0.687594.4\n",
      "Shopping/Home & Garden: 0.695633.4\n",
      "Active Life/Religious Organizations: 0.711864.4\n",
      "total score: 0.685903.4\n"
     ]
    }
   ],
   "source": [
    "res = fitness(features, businesses, combos, 0.4, 5)\n"
   ]
  },
  {
   "cell_type": "code",
   "execution_count": 13,
   "metadata": {
    "collapsed": false
   },
   "outputs": [
    {
     "name": "stdout",
     "output_type": "stream",
     "text": [
      "The number of classes has to be greater than one; got 1\n"
     ]
    },
    {
     "data": {
      "text/html": [
       "<div style=\"max-height:1000px;max-width:1500px;overflow:auto;\">\n",
       "<table border=\"1\" class=\"dataframe\">\n",
       "  <thead>\n",
       "    <tr style=\"text-align: right;\">\n",
       "      <th></th>\n",
       "      <th></th>\n",
       "      <th>0</th>\n",
       "      <th>1</th>\n",
       "    </tr>\n",
       "  </thead>\n",
       "  <tbody>\n",
       "    <tr>\n",
       "      <th>-1</th>\n",
       "      <th>-1</th>\n",
       "      <td>0.162562</td>\n",
       "      <td>0.194882</td>\n",
       "    </tr>\n",
       "    <tr>\n",
       "      <th rowspan=\"5\" valign=\"top\">0</th>\n",
       "      <th>-1</th>\n",
       "      <td>0.190476</td>\n",
       "      <td>0.188679</td>\n",
       "    </tr>\n",
       "    <tr>\n",
       "      <th>0</th>\n",
       "      <td>0.266355</td>\n",
       "      <td>0.260056</td>\n",
       "    </tr>\n",
       "    <tr>\n",
       "      <th>1</th>\n",
       "      <td>0.272727</td>\n",
       "      <td>0.134904</td>\n",
       "    </tr>\n",
       "    <tr>\n",
       "      <th>2</th>\n",
       "      <td>0.322034</td>\n",
       "      <td>0.378378</td>\n",
       "    </tr>\n",
       "    <tr>\n",
       "      <th>3</th>\n",
       "      <td>0.352217</td>\n",
       "      <td>0.220690</td>\n",
       "    </tr>\n",
       "    <tr>\n",
       "      <th rowspan=\"7\" valign=\"top\">1</th>\n",
       "      <th>-1</th>\n",
       "      <td>0.055556</td>\n",
       "      <td>0.173913</td>\n",
       "    </tr>\n",
       "    <tr>\n",
       "      <th>0</th>\n",
       "      <td>0.355159</td>\n",
       "      <td>0.124504</td>\n",
       "    </tr>\n",
       "    <tr>\n",
       "      <th>1</th>\n",
       "      <td>0.132075</td>\n",
       "      <td>0.196226</td>\n",
       "    </tr>\n",
       "    <tr>\n",
       "      <th>2</th>\n",
       "      <td>0.275910</td>\n",
       "      <td>0.125490</td>\n",
       "    </tr>\n",
       "    <tr>\n",
       "      <th>3</th>\n",
       "      <td>0.373563</td>\n",
       "      <td>0.099078</td>\n",
       "    </tr>\n",
       "    <tr>\n",
       "      <th>4</th>\n",
       "      <td>0.177606</td>\n",
       "      <td>0.119691</td>\n",
       "    </tr>\n",
       "    <tr>\n",
       "      <th>5</th>\n",
       "      <td>0.250000</td>\n",
       "      <td>0.209877</td>\n",
       "    </tr>\n",
       "    <tr>\n",
       "      <th rowspan=\"5\" valign=\"top\">2</th>\n",
       "      <th>-1</th>\n",
       "      <td>0.263158</td>\n",
       "      <td>0.253521</td>\n",
       "    </tr>\n",
       "    <tr>\n",
       "      <th>0</th>\n",
       "      <td>0.273902</td>\n",
       "      <td>0.289111</td>\n",
       "    </tr>\n",
       "    <tr>\n",
       "      <th>1</th>\n",
       "      <td>0.245538</td>\n",
       "      <td>0.270665</td>\n",
       "    </tr>\n",
       "    <tr>\n",
       "      <th>2</th>\n",
       "      <td>0.302611</td>\n",
       "      <td>0.248157</td>\n",
       "    </tr>\n",
       "    <tr>\n",
       "      <th>3</th>\n",
       "      <td>0.280545</td>\n",
       "      <td>0.291784</td>\n",
       "    </tr>\n",
       "    <tr>\n",
       "      <th rowspan=\"7\" valign=\"top\">3</th>\n",
       "      <th>-1</th>\n",
       "      <td>0.165468</td>\n",
       "      <td>0.189655</td>\n",
       "    </tr>\n",
       "    <tr>\n",
       "      <th>0</th>\n",
       "      <td>0.225836</td>\n",
       "      <td>0.223503</td>\n",
       "    </tr>\n",
       "    <tr>\n",
       "      <th>1</th>\n",
       "      <td>0.190244</td>\n",
       "      <td>0.207602</td>\n",
       "    </tr>\n",
       "    <tr>\n",
       "      <th>2</th>\n",
       "      <td>0.211957</td>\n",
       "      <td>0.210412</td>\n",
       "    </tr>\n",
       "    <tr>\n",
       "      <th>3</th>\n",
       "      <td>0.177033</td>\n",
       "      <td>0.237094</td>\n",
       "    </tr>\n",
       "    <tr>\n",
       "      <th>4</th>\n",
       "      <td>0.207424</td>\n",
       "      <td>0.203493</td>\n",
       "    </tr>\n",
       "    <tr>\n",
       "      <th>5</th>\n",
       "      <td>0.136752</td>\n",
       "      <td>0.162116</td>\n",
       "    </tr>\n",
       "    <tr>\n",
       "      <th rowspan=\"5\" valign=\"top\">4</th>\n",
       "      <th>-1</th>\n",
       "      <td>0.000000</td>\n",
       "      <td>0.250000</td>\n",
       "    </tr>\n",
       "    <tr>\n",
       "      <th>0</th>\n",
       "      <td>0.211111</td>\n",
       "      <td>0.203465</td>\n",
       "    </tr>\n",
       "    <tr>\n",
       "      <th>1</th>\n",
       "      <td>0.293663</td>\n",
       "      <td>0.182437</td>\n",
       "    </tr>\n",
       "    <tr>\n",
       "      <th>2</th>\n",
       "      <td>0.509091</td>\n",
       "      <td>0.275362</td>\n",
       "    </tr>\n",
       "    <tr>\n",
       "      <th>3</th>\n",
       "      <td>0.137931</td>\n",
       "      <td>0.150685</td>\n",
       "    </tr>\n",
       "    <tr>\n",
       "      <th rowspan=\"6\" valign=\"top\">5</th>\n",
       "      <th>-1</th>\n",
       "      <td>0.272727</td>\n",
       "      <td>0.178571</td>\n",
       "    </tr>\n",
       "    <tr>\n",
       "      <th>0</th>\n",
       "      <td>0.535519</td>\n",
       "      <td>0.174672</td>\n",
       "    </tr>\n",
       "    <tr>\n",
       "      <th>1</th>\n",
       "      <td>0.184676</td>\n",
       "      <td>0.183176</td>\n",
       "    </tr>\n",
       "    <tr>\n",
       "      <th>2</th>\n",
       "      <td>0.218750</td>\n",
       "      <td>0.160494</td>\n",
       "    </tr>\n",
       "    <tr>\n",
       "      <th>3</th>\n",
       "      <td>0.234375</td>\n",
       "      <td>0.162500</td>\n",
       "    </tr>\n",
       "    <tr>\n",
       "      <th>4</th>\n",
       "      <td>0.402027</td>\n",
       "      <td>0.151351</td>\n",
       "    </tr>\n",
       "    <tr>\n",
       "      <th rowspan=\"6\" valign=\"top\">6</th>\n",
       "      <th>-1</th>\n",
       "      <td>0.250000</td>\n",
       "      <td>0.100000</td>\n",
       "    </tr>\n",
       "    <tr>\n",
       "      <th>0</th>\n",
       "      <td>0.242165</td>\n",
       "      <td>0.215385</td>\n",
       "    </tr>\n",
       "    <tr>\n",
       "      <th>1</th>\n",
       "      <td>0.494444</td>\n",
       "      <td>0.175947</td>\n",
       "    </tr>\n",
       "    <tr>\n",
       "      <th>2</th>\n",
       "      <td>0.178571</td>\n",
       "      <td>0.085308</td>\n",
       "    </tr>\n",
       "    <tr>\n",
       "      <th>3</th>\n",
       "      <td>0.271635</td>\n",
       "      <td>0.256484</td>\n",
       "    </tr>\n",
       "    <tr>\n",
       "      <th>4</th>\n",
       "      <td>0.238095</td>\n",
       "      <td>0.150000</td>\n",
       "    </tr>\n",
       "    <tr>\n",
       "      <th rowspan=\"7\" valign=\"top\">7</th>\n",
       "      <th>-1</th>\n",
       "      <td>0.125000</td>\n",
       "      <td>0.095238</td>\n",
       "    </tr>\n",
       "    <tr>\n",
       "      <th>0</th>\n",
       "      <td>0.231884</td>\n",
       "      <td>0.154114</td>\n",
       "    </tr>\n",
       "    <tr>\n",
       "      <th>1</th>\n",
       "      <td>NaN</td>\n",
       "      <td>NaN</td>\n",
       "    </tr>\n",
       "    <tr>\n",
       "      <th>2</th>\n",
       "      <td>0.172414</td>\n",
       "      <td>0.191781</td>\n",
       "    </tr>\n",
       "    <tr>\n",
       "      <th>3</th>\n",
       "      <td>0.147766</td>\n",
       "      <td>0.167813</td>\n",
       "    </tr>\n",
       "    <tr>\n",
       "      <th>4</th>\n",
       "      <td>0.463158</td>\n",
       "      <td>0.168067</td>\n",
       "    </tr>\n",
       "    <tr>\n",
       "      <th>5</th>\n",
       "      <td>0.000000</td>\n",
       "      <td>0.384615</td>\n",
       "    </tr>\n",
       "    <tr>\n",
       "      <th rowspan=\"4\" valign=\"top\">8</th>\n",
       "      <th>-1</th>\n",
       "      <td>0.280000</td>\n",
       "      <td>0.193548</td>\n",
       "    </tr>\n",
       "    <tr>\n",
       "      <th>0</th>\n",
       "      <td>0.256219</td>\n",
       "      <td>0.260365</td>\n",
       "    </tr>\n",
       "    <tr>\n",
       "      <th>1</th>\n",
       "      <td>0.238655</td>\n",
       "      <td>0.242771</td>\n",
       "    </tr>\n",
       "    <tr>\n",
       "      <th>2</th>\n",
       "      <td>0.305369</td>\n",
       "      <td>0.284182</td>\n",
       "    </tr>\n",
       "    <tr>\n",
       "      <th rowspan=\"3\" valign=\"top\">9</th>\n",
       "      <th>-1</th>\n",
       "      <td>0.500000</td>\n",
       "      <td>0.000000</td>\n",
       "    </tr>\n",
       "    <tr>\n",
       "      <th>0</th>\n",
       "      <td>0.247283</td>\n",
       "      <td>0.194565</td>\n",
       "    </tr>\n",
       "    <tr>\n",
       "      <th>1</th>\n",
       "      <td>0.328571</td>\n",
       "      <td>0.240000</td>\n",
       "    </tr>\n",
       "  </tbody>\n",
       "</table>\n",
       "</div>"
      ],
      "text/plain": [
       "              0         1\n",
       "-1 -1  0.162562  0.194882\n",
       " 0 -1  0.190476  0.188679\n",
       "    0  0.266355  0.260056\n",
       "    1  0.272727  0.134904\n",
       "    2  0.322034  0.378378\n",
       "    3  0.352217  0.220690\n",
       " 1 -1  0.055556  0.173913\n",
       "    0  0.355159  0.124504\n",
       "    1  0.132075  0.196226\n",
       "    2  0.275910  0.125490\n",
       "    3  0.373563  0.099078\n",
       "    4  0.177606  0.119691\n",
       "    5  0.250000  0.209877\n",
       " 2 -1  0.263158  0.253521\n",
       "    0  0.273902  0.289111\n",
       "    1  0.245538  0.270665\n",
       "    2  0.302611  0.248157\n",
       "    3  0.280545  0.291784\n",
       " 3 -1  0.165468  0.189655\n",
       "    0  0.225836  0.223503\n",
       "    1  0.190244  0.207602\n",
       "    2  0.211957  0.210412\n",
       "    3  0.177033  0.237094\n",
       "    4  0.207424  0.203493\n",
       "    5  0.136752  0.162116\n",
       " 4 -1  0.000000  0.250000\n",
       "    0  0.211111  0.203465\n",
       "    1  0.293663  0.182437\n",
       "    2  0.509091  0.275362\n",
       "    3  0.137931  0.150685\n",
       " 5 -1  0.272727  0.178571\n",
       "    0  0.535519  0.174672\n",
       "    1  0.184676  0.183176\n",
       "    2  0.218750  0.160494\n",
       "    3  0.234375  0.162500\n",
       "    4  0.402027  0.151351\n",
       " 6 -1  0.250000  0.100000\n",
       "    0  0.242165  0.215385\n",
       "    1  0.494444  0.175947\n",
       "    2  0.178571  0.085308\n",
       "    3  0.271635  0.256484\n",
       "    4  0.238095  0.150000\n",
       " 7 -1  0.125000  0.095238\n",
       "    0  0.231884  0.154114\n",
       "    1       NaN       NaN\n",
       "    2  0.172414  0.191781\n",
       "    3  0.147766  0.167813\n",
       "    4  0.463158  0.168067\n",
       "    5  0.000000  0.384615\n",
       " 8 -1  0.280000  0.193548\n",
       "    0  0.256219  0.260365\n",
       "    1  0.238655  0.242771\n",
       "    2  0.305369  0.284182\n",
       " 9 -1  0.500000  0.000000\n",
       "    0  0.247283  0.194565\n",
       "    1  0.328571  0.240000"
      ]
     },
     "execution_count": 13,
     "metadata": {},
     "output_type": "execute_result"
    }
   ],
   "source": [
    "#print(\"Accuracy per category:\")\n",
    "results = {}\n",
    "for combo, name in combos.items():\n",
    "    try:\n",
    "        idx = df[df['category'] == combo].index.tolist()\n",
    "        \n",
    "        # Take out 15% of data as random sample to test data with\n",
    "        idx_sample = sample(idx, round(len(idx)*0.4))\n",
    "        idx_train = [index for index in idx if index not in idx_sample]\n",
    "        \n",
    "        subcat_clf = svm.SVC()\n",
    "\n",
    "        # Multiply stars by 2 to get full numbers which scikit will use as class identifier (it doesnt like float for that)\n",
    "        feat_train = features.loc[idx_train, :].values\n",
    "        quality_train = businesses.loc[idx_train, 'stars'].values * 2  \n",
    "        \n",
    "        feat_sample = features.loc[idx_sample, :].values\n",
    "        quality_sample = businesses.loc[idx_sample, 'stars'].values * 2  \n",
    "        \n",
    "        \n",
    "        subcat_clf.fit(feat_train, quality_train)\n",
    "        score1 = subcat_clf.score(feat_sample, quality_sample)\n",
    "        #print('{}: {:.2f}%'.format(name, score1 * 100))\n",
    "        \n",
    "        # Compare to just a constant guess\n",
    "        c = round(df.loc[df['category']==combo, 'stars'].mean() * 2)\n",
    "        res = df.ix[idx].loc[(df['stars']*2 == c), 'stars'].count()\n",
    "        score2 =  res / df.ix[idx].loc[:, 'stars'].count()\n",
    "        \n",
    "        results[combo] = [score1, score2]\n",
    "        \n",
    "    except Exception as e:\n",
    "        print(e)\n",
    "        results[combo] = [np.nan, np.nan]    \n",
    "        \n",
    "resframe = pd.DataFrame(results)\n",
    "resframe.transpose()"
   ]
  },
  {
   "cell_type": "code",
   "execution_count": 28,
   "metadata": {
    "collapsed": false
   },
   "outputs": [],
   "source": [
    "idx_tot = df[df['category'] == combo].index"
   ]
  },
  {
   "cell_type": "code",
   "execution_count": 32,
   "metadata": {
    "collapsed": false
   },
   "outputs": [],
   "source": [
    "sample_size = round(len(idx_tot) * 0.15)"
   ]
  },
  {
   "cell_type": "code",
   "execution_count": 33,
   "metadata": {
    "collapsed": true
   },
   "outputs": [],
   "source": [
    "from random import sample"
   ]
  },
  {
   "cell_type": "code",
   "execution_count": 37,
   "metadata": {
    "collapsed": false
   },
   "outputs": [],
   "source": [
    "idx = df[df['category'] == (2,1)].index.tolist()\n",
    "        \n",
    "# Take out 15% of data as random sample to test data with\n",
    "idx_sample = sample(idx, round(len(idx)*0.15))\n",
    "idx_train = [index for index in idx if index not in idx_sample]\n",
    "        "
   ]
  },
  {
   "cell_type": "code",
   "execution_count": 46,
   "metadata": {
    "collapsed": false
   },
   "outputs": [],
   "source": [
    "quality_train = businesses.loc[idx_train, 'stars'].values * 2  \n",
    "        "
   ]
  },
  {
   "cell_type": "code",
   "execution_count": null,
   "metadata": {
    "collapsed": false
   },
   "outputs": [],
   "source": [
    "# \"Genetic\" feature search\n",
    "# Step 1: Get Population\n",
    "# Step 2: Calculate fitness\n",
    "# Then select fittest and start again"
   ]
  },
  {
   "cell_type": "code",
   "execution_count": 7,
   "metadata": {
    "collapsed": false
   },
   "outputs": [],
   "source": [
    "# Step 1: Polulation function\n",
    "from random import random\n",
    "\n",
    "def _switch(field, chance):\n",
    "    \"\"\"Changes bool with chance as specified\"\"\"\n",
    "    if random() < chance:\n",
    "        return not(field)\n",
    "    return field\n",
    "\n",
    "def mutate(old, chance, n_output):\n",
    "    output = []\n",
    "    for _ in range(n_output):\n",
    "        output.append([_switch(item, chance) for item in old])\n",
    "    return output"
   ]
  },
  {
   "cell_type": "code",
   "execution_count": 4,
   "metadata": {
    "collapsed": false
   },
   "outputs": [],
   "source": [
    "# Step 2, Fitness function\n",
    "def fitness(features, df_busi, combos, test_portion, test_rounds, status=False):\n",
    "    if status:\n",
    "        print(\"Percentage:\")\n",
    "    all_scores = []\n",
    "    for combo, name in combos.items():\n",
    "        try:\n",
    "            score = []\n",
    "            idx = df_busi[df_busi['category'] == combo].index.tolist()\n",
    "\n",
    "            for _ in range(test_rounds):\n",
    "                # Take out 15% of data as random sample to test data with\n",
    "                idx_sample = sample(idx, round(len(idx)*test_portion))\n",
    "                idx_train = [index for index in idx if index not in idx_sample]\n",
    "\n",
    "                subcat_clf = svm.SVC(cache_size=2000, kernel=\"rbf\")\n",
    "                \n",
    "                # Multiply stars by 2 to get full numbers which scikit will use as class identifier (it doesnt like float for that)\n",
    "                feat_train = features.loc[idx_train, :].values\n",
    "                quality_train = df_busi.loc[idx_train, 'good'].values  \n",
    "\n",
    "                feat_sample = features.loc[idx_sample, :].values\n",
    "                quality_sample = df_busi.loc[idx_sample, 'good'].values  \n",
    "\n",
    "                subcat_clf.fit(feat_train, quality_train)\n",
    "                score.append(subcat_clf.score(feat_sample, quality_sample))\n",
    "\n",
    "            mean_score = np.mean(score)\n",
    "            all_scores.append((mean_score, len(idx)))  # Tuple score - weight  \n",
    "            \n",
    "            if status:\n",
    "                print(\"%s: %f.4\" % (name, mean_score))\n",
    "\n",
    "        except Exception as e:\n",
    "            pass  # Ignore this for now\n",
    "\n",
    "    tot_weight = 0\n",
    "    tot_score = 0\n",
    "    for score, weight in all_scores:\n",
    "        tot_score += score*weight\n",
    "        tot_weight += weight\n",
    "    \n",
    "    if tot_weight==0:\n",
    "        return 0\n",
    "    return (tot_score/tot_weight)"
   ]
  },
  {
   "cell_type": "code",
   "execution_count": 29,
   "metadata": {
    "collapsed": true
   },
   "outputs": [],
   "source": [
    "from operator import itemgetter\n",
    "# Set up: Get starting point\n",
    "num_feat = len(features.columns)\n",
    "\n",
    "# Chance: 1/num_feats so in exceptation always one feature mutates\n",
    "chance = 1/num_feat\n",
    "\n",
    "counter = 0\n",
    "generations = {}\n",
    "generations[counter] = [([False] * num_feat, 0)]\n",
    "\n",
    "all_features = features.copy(deep=True)"
   ]
  },
  {
   "cell_type": "code",
   "execution_count": 38,
   "metadata": {
    "collapsed": false
   },
   "outputs": [
    {
     "ename": "KeyboardInterrupt",
     "evalue": "",
     "output_type": "error",
     "traceback": [
      "\u001b[1;31m---------------------------------------------------------------------------\u001b[0m",
      "\u001b[1;31mKeyboardInterrupt\u001b[0m                         Traceback (most recent call last)",
      "\u001b[1;32m<ipython-input-38-d738ef6ad10f>\u001b[0m in \u001b[0;36m<module>\u001b[1;34m()\u001b[0m\n\u001b[0;32m     10\u001b[0m             \u001b[1;32mif\u001b[0m \u001b[1;32mnot\u001b[0m\u001b[1;33m(\u001b[0m\u001b[0many\u001b[0m\u001b[1;33m(\u001b[0m\u001b[0mfeats\u001b[0m\u001b[1;33m)\u001b[0m\u001b[1;33m)\u001b[0m\u001b[1;33m:\u001b[0m\u001b[1;33m\u001b[0m\u001b[0m\n\u001b[0;32m     11\u001b[0m                 \u001b[1;32mcontinue\u001b[0m \u001b[1;31m# Go on only if at least one feature is selected\u001b[0m\u001b[1;33m\u001b[0m\u001b[0m\n\u001b[1;32m---> 12\u001b[1;33m             \u001b[0mscore\u001b[0m \u001b[1;33m=\u001b[0m \u001b[0mfitness\u001b[0m\u001b[1;33m(\u001b[0m\u001b[0mall_features\u001b[0m\u001b[1;33m.\u001b[0m\u001b[0mloc\u001b[0m\u001b[1;33m[\u001b[0m\u001b[1;33m:\u001b[0m\u001b[1;33m,\u001b[0m \u001b[0mfeats\u001b[0m\u001b[1;33m]\u001b[0m\u001b[1;33m,\u001b[0m \u001b[0mbusinesses\u001b[0m\u001b[1;33m,\u001b[0m \u001b[0mcombos\u001b[0m\u001b[1;33m,\u001b[0m \u001b[1;36m0.1\u001b[0m\u001b[1;33m,\u001b[0m \u001b[1;36m5\u001b[0m\u001b[1;33m)\u001b[0m\u001b[1;33m\u001b[0m\u001b[0m\n\u001b[0m\u001b[0;32m     13\u001b[0m             \u001b[0mcandidates\u001b[0m\u001b[1;33m.\u001b[0m\u001b[0mappend\u001b[0m\u001b[1;33m(\u001b[0m\u001b[1;33m(\u001b[0m\u001b[0mfeats\u001b[0m\u001b[1;33m,\u001b[0m \u001b[0mscore\u001b[0m\u001b[1;33m)\u001b[0m\u001b[1;33m)\u001b[0m\u001b[1;33m\u001b[0m\u001b[0m\n\u001b[0;32m     14\u001b[0m \u001b[1;33m\u001b[0m\u001b[0m\n",
      "\u001b[1;32m<ipython-input-17-9d627d458eea>\u001b[0m in \u001b[0;36mfitness\u001b[1;34m(features, df_busi, combos, test_portion, test_rounds, status)\u001b[0m\n\u001b[0;32m     23\u001b[0m                 \u001b[0mquality_sample\u001b[0m \u001b[1;33m=\u001b[0m \u001b[0mdf_busi\u001b[0m\u001b[1;33m.\u001b[0m\u001b[0mloc\u001b[0m\u001b[1;33m[\u001b[0m\u001b[0midx_sample\u001b[0m\u001b[1;33m,\u001b[0m \u001b[1;34m'good'\u001b[0m\u001b[1;33m]\u001b[0m\u001b[1;33m.\u001b[0m\u001b[0mvalues\u001b[0m\u001b[1;33m\u001b[0m\u001b[0m\n\u001b[0;32m     24\u001b[0m \u001b[1;33m\u001b[0m\u001b[0m\n\u001b[1;32m---> 25\u001b[1;33m                 \u001b[0msubcat_clf\u001b[0m\u001b[1;33m.\u001b[0m\u001b[0mfit\u001b[0m\u001b[1;33m(\u001b[0m\u001b[0mfeat_train\u001b[0m\u001b[1;33m,\u001b[0m \u001b[0mquality_train\u001b[0m\u001b[1;33m)\u001b[0m\u001b[1;33m\u001b[0m\u001b[0m\n\u001b[0m\u001b[0;32m     26\u001b[0m                 \u001b[0mscore\u001b[0m\u001b[1;33m.\u001b[0m\u001b[0mappend\u001b[0m\u001b[1;33m(\u001b[0m\u001b[0msubcat_clf\u001b[0m\u001b[1;33m.\u001b[0m\u001b[0mscore\u001b[0m\u001b[1;33m(\u001b[0m\u001b[0mfeat_sample\u001b[0m\u001b[1;33m,\u001b[0m \u001b[0mquality_sample\u001b[0m\u001b[1;33m)\u001b[0m\u001b[1;33m)\u001b[0m\u001b[1;33m\u001b[0m\u001b[0m\n\u001b[0;32m     27\u001b[0m \u001b[1;33m\u001b[0m\u001b[0m\n",
      "\u001b[1;32mC:\\Code\\DataChallenge\\env\\Lib\\site-packages\\sklearn\\svm\\base.py\u001b[0m in \u001b[0;36mfit\u001b[1;34m(self, X, y, sample_weight)\u001b[0m\n\u001b[0;32m    176\u001b[0m \u001b[1;33m\u001b[0m\u001b[0m\n\u001b[0;32m    177\u001b[0m         \u001b[0mseed\u001b[0m \u001b[1;33m=\u001b[0m \u001b[0mrnd\u001b[0m\u001b[1;33m.\u001b[0m\u001b[0mrandint\u001b[0m\u001b[1;33m(\u001b[0m\u001b[0mnp\u001b[0m\u001b[1;33m.\u001b[0m\u001b[0miinfo\u001b[0m\u001b[1;33m(\u001b[0m\u001b[1;34m'i'\u001b[0m\u001b[1;33m)\u001b[0m\u001b[1;33m.\u001b[0m\u001b[0mmax\u001b[0m\u001b[1;33m)\u001b[0m\u001b[1;33m\u001b[0m\u001b[0m\n\u001b[1;32m--> 178\u001b[1;33m         \u001b[0mfit\u001b[0m\u001b[1;33m(\u001b[0m\u001b[0mX\u001b[0m\u001b[1;33m,\u001b[0m \u001b[0my\u001b[0m\u001b[1;33m,\u001b[0m \u001b[0msample_weight\u001b[0m\u001b[1;33m,\u001b[0m \u001b[0msolver_type\u001b[0m\u001b[1;33m,\u001b[0m \u001b[0mkernel\u001b[0m\u001b[1;33m,\u001b[0m \u001b[0mrandom_seed\u001b[0m\u001b[1;33m=\u001b[0m\u001b[0mseed\u001b[0m\u001b[1;33m)\u001b[0m\u001b[1;33m\u001b[0m\u001b[0m\n\u001b[0m\u001b[0;32m    179\u001b[0m         \u001b[1;31m# see comment on the other call to np.iinfo in this file\u001b[0m\u001b[1;33m\u001b[0m\u001b[1;33m\u001b[0m\u001b[0m\n\u001b[0;32m    180\u001b[0m \u001b[1;33m\u001b[0m\u001b[0m\n",
      "\u001b[1;32mC:\\Code\\DataChallenge\\env\\Lib\\site-packages\\sklearn\\svm\\base.py\u001b[0m in \u001b[0;36m_dense_fit\u001b[1;34m(self, X, y, sample_weight, solver_type, kernel, random_seed)\u001b[0m\n\u001b[0;32m    234\u001b[0m                 \u001b[0mcache_size\u001b[0m\u001b[1;33m=\u001b[0m\u001b[0mself\u001b[0m\u001b[1;33m.\u001b[0m\u001b[0mcache_size\u001b[0m\u001b[1;33m,\u001b[0m \u001b[0mcoef0\u001b[0m\u001b[1;33m=\u001b[0m\u001b[0mself\u001b[0m\u001b[1;33m.\u001b[0m\u001b[0mcoef0\u001b[0m\u001b[1;33m,\u001b[0m\u001b[1;33m\u001b[0m\u001b[0m\n\u001b[0;32m    235\u001b[0m                 \u001b[0mgamma\u001b[0m\u001b[1;33m=\u001b[0m\u001b[0mself\u001b[0m\u001b[1;33m.\u001b[0m\u001b[0m_gamma\u001b[0m\u001b[1;33m,\u001b[0m \u001b[0mepsilon\u001b[0m\u001b[1;33m=\u001b[0m\u001b[0mself\u001b[0m\u001b[1;33m.\u001b[0m\u001b[0mepsilon\u001b[0m\u001b[1;33m,\u001b[0m\u001b[1;33m\u001b[0m\u001b[0m\n\u001b[1;32m--> 236\u001b[1;33m                 max_iter=self.max_iter, random_seed=random_seed)\n\u001b[0m\u001b[0;32m    237\u001b[0m \u001b[1;33m\u001b[0m\u001b[0m\n\u001b[0;32m    238\u001b[0m         \u001b[0mself\u001b[0m\u001b[1;33m.\u001b[0m\u001b[0m_warn_from_fit_status\u001b[0m\u001b[1;33m(\u001b[0m\u001b[1;33m)\u001b[0m\u001b[1;33m\u001b[0m\u001b[0m\n",
      "\u001b[1;31mKeyboardInterrupt\u001b[0m: "
     ]
    }
   ],
   "source": [
    "import datetime as dt\n",
    "n_new = 5  # Try with 5 new candidates per old one\n",
    "# Run on timer\n",
    "end = dt.datetime.now() + dt.timedelta(hours=6)\n",
    "while True:\n",
    "    candidates = generations[counter]  # They will also be in the list so that only children that are better survive\n",
    "    for item in generations[counter]:\n",
    "        new_features = mutate(item[0], chance, n_new)\n",
    "        for feats in new_features:\n",
    "            if not(any(feats)):\n",
    "                continue # Go on only if at least one feature is selected\n",
    "            score = fitness(all_features.loc[:, feats], businesses, combos, 0.1, 5)\n",
    "            candidates.append((feats, score))\n",
    "\n",
    "    # Now get 5 best candidates\n",
    "    new_generation = sorted(candidates, key=itemgetter(1))[:5]\n",
    "    counter += 1\n",
    "    generations[counter] = new_generation\n",
    "    \n",
    "    if dt.datetime.now() > end:\n",
    "        break"
   ]
  },
  {
   "cell_type": "code",
   "execution_count": 37,
   "metadata": {
    "collapsed": false
   },
   "outputs": [
    {
     "name": "stdout",
     "output_type": "stream",
     "text": [
      "0.69276282582\n",
      "0.693717069187\n",
      "0.695333020002\n",
      "0.697621079839\n",
      "0.697656117001\n"
     ]
    }
   ],
   "source": [
    "for item in generations[counter]:\n",
    "    print(item[1])"
   ]
  },
  {
   "cell_type": "code",
   "execution_count": 39,
   "metadata": {
    "collapsed": true
   },
   "outputs": [],
   "source": [
    "import pickle\n",
    "with open(\"gen.pkl\", 'wb') as f:\n",
    "    pickle.dump(generations, f)"
   ]
  },
  {
   "cell_type": "code",
   "execution_count": 10,
   "metadata": {
    "collapsed": false
   },
   "outputs": [
    {
     "name": "stdout",
     "output_type": "stream",
     "text": []
    }
   ],
   "source": [
    "res = {}\n",
    "for column in features.columns:\n",
    "    print(\"Now column '%s'\" % column, end=\"\\r\")\n",
    "    score = fitness(features.loc[:, [column]], businesses, combos, 0.1, 5)\n",
    "    res[column] = score"
   ]
  },
  {
   "cell_type": "code",
   "execution_count": 13,
   "metadata": {
    "collapsed": false
   },
   "outputs": [
    {
     "data": {
      "text/plain": [
       "{'(-1, -1)': 0.69896816585363064,\n",
       " '(0, -1)': 0.70061766344530674,\n",
       " '(0, 0)': 0.69884234955590607,\n",
       " '(0, 1)': 0.69396624480286295,\n",
       " '(0, 2)': 0.70139202222521002,\n",
       " '(0, 3)': 0.6986176964893227,\n",
       " '(1, -1)': 0.69988187652571254,\n",
       " '(1, 0)': 0.69955088356155537,\n",
       " '(1, 1)': 0.69635642777227513,\n",
       " '(1, 2)': 0.6979885166983707,\n",
       " '(1, 3)': 0.69730872517279974,\n",
       " '(1, 4)': 0.70002316945425369,\n",
       " '(1, 5)': 0.69893794223337025,\n",
       " '(2, -1)': 0.70301305814963511,\n",
       " '(2, 0)': 0.6963006544055419,\n",
       " '(2, 1)': 0.70105809096451321,\n",
       " '(2, 2)': 0.70150148201420093,\n",
       " '(2, 3)': 0.70265738451972515,\n",
       " '(2, 4)': 0.70013225960335657,\n",
       " '(3, -1)': 0.69428955352434807,\n",
       " '(3, 0)': 0.69871253780968423,\n",
       " '(3, 1)': 0.70059638358750831,\n",
       " '(3, 2)': 0.70177307898149399,\n",
       " '(3, 3)': 0.69744668323199643,\n",
       " '(3, 4)': 0.6962908398095452,\n",
       " '(4, -1)': 0.69745470084105732,\n",
       " '(4, 0)': 0.70104379913438408,\n",
       " '(4, 1)': 0.69694089480025223,\n",
       " '(4, 2)': 0.69807038960729229,\n",
       " '(4, 3)': 0.69992626122993773,\n",
       " '(5, -1)': 0.70031981803922039,\n",
       " '(5, 0)': 0.70268108997031486,\n",
       " '(5, 1)': 0.70019788559518381,\n",
       " '(5, 2)': 0.69746377255849901,\n",
       " '(5, 3)': 0.69748954158892873,\n",
       " '(5, 4)': 0.70203945150918179,\n",
       " '(6, -1)': 0.69787371093037087,\n",
       " '(6, 0)': 0.70070150684114696,\n",
       " '(6, 1)': 0.69842217949854157,\n",
       " '(6, 2)': 0.69898332870378832,\n",
       " '(6, 3)': 0.69965448790613005,\n",
       " '(6, 4)': 0.69825500996115919,\n",
       " '(6, 5)': 0.69683878350988848,\n",
       " '(7, -1)': 0.70207477299859145,\n",
       " '(7, 0)': 0.70110014331288995,\n",
       " '(7, 1)': 0.70211475108517019,\n",
       " '(7, 2)': 0.69754969745288398,\n",
       " '(7, 3)': 0.70674454091421512,\n",
       " '(8, -1)': 0.70355971654764371,\n",
       " '(8, 0)': 0.70590019061273335,\n",
       " '(9, -1)': 0.70067098360216684,\n",
       " '(9, 0)': 0.69782374023371407,\n",
       " '(9, 1)': 0.70085318530056417,\n",
       " '(9, 2)': 0.69679716385505897,\n",
       " '-1': 0.70302741952550096,\n",
       " '0': 0.69768075329806967,\n",
       " '1': 0.69617588794207808,\n",
       " '2': 0.69980636055919554,\n",
       " '3': 0.69526297204980236,\n",
       " '4': 0.69884203722842986,\n",
       " '5': 0.70053299544952197,\n",
       " '6': 0.69973680155628615,\n",
       " '7': 0.6984409732421587,\n",
       " '8': 0.70104506593743054,\n",
       " '9': 0.6983851546129537,\n",
       " 'neighbourhood_radius': 0.69730267689217151,\n",
       " 'neighbourhood_radius_squared': 0.6932674444738256,\n",
       " 'reviews_max': 0.67679061906493909,\n",
       " 'reviews_mean': 0.69402568643321905,\n",
       " 'reviews_median': 0.69959816074902326,\n",
       " 'reviews_min': 0.69860273594768307,\n",
       " 'reviews_std': 0.69175569468545484,\n",
       " 'reviews_sum': 0.6623657327255279,\n",
       " 'stars_max': 0.70042109735458191,\n",
       " 'stars_mean': 0.7005599328520995,\n",
       " 'stars_median': 0.70503862822040853,\n",
       " 'stars_min': 0.70158254229019912,\n",
       " 'stars_std': 0.7024488318896388,\n",
       " 'stars_sum': 0.69717054272680523,\n",
       " 'weighted review-count': 0.69515747057040589}"
      ]
     },
     "execution_count": 13,
     "metadata": {},
     "output_type": "execute_result"
    }
   ],
   "source": [
    "res"
   ]
  },
  {
   "cell_type": "code",
   "execution_count": 8,
   "metadata": {
    "collapsed": false
   },
   "outputs": [],
   "source": [
    "test = businesses.groupby(\"category\")['city'].count()\n",
    "combo = test.argmax()"
   ]
  },
  {
   "cell_type": "code",
   "execution_count": 9,
   "metadata": {
    "collapsed": false
   },
   "outputs": [],
   "source": [
    "def fitness_one(features, df_busi, combo, test_portion, test_rounds, status=False):\n",
    "    features = (features - features.mean()) / features.std()\n",
    "\n",
    "    score = []\n",
    "    idx = df_busi[df_busi['category'] == combo].index.tolist()\n",
    "\n",
    "    for _ in range(test_rounds):\n",
    "        # Take out 15% of data as random sample to test data with\n",
    "        idx_sample = sample(idx, round(len(idx)*test_portion))\n",
    "        idx_train = [index for index in idx if index not in idx_sample]\n",
    "\n",
    "        subcat_clf = svm.SVC(cache_size=2000, kernel=\"rbf\")\n",
    "\n",
    "        # Multiply stars by 2 to get full numbers which scikit will use as class identifier (it doesnt like float for that)\n",
    "        feat_train = features.loc[idx_train, :].values\n",
    "        quality_train = df_busi.loc[idx_train, 'good'].values  \n",
    "\n",
    "        feat_sample = features.loc[idx_sample, :].values\n",
    "        quality_sample = df_busi.loc[idx_sample, 'good'].values  \n",
    "\n",
    "        subcat_clf.fit(feat_train, quality_train)\n",
    "        score.append(subcat_clf.score(feat_sample, quality_sample))\n",
    "\n",
    "    return np.mean(score)"
   ]
  },
  {
   "cell_type": "code",
   "execution_count": 10,
   "metadata": {
    "collapsed": false
   },
   "outputs": [
    {
     "data": {
      "text/plain": [
       "0.70329985652797711"
      ]
     },
     "execution_count": 10,
     "metadata": {},
     "output_type": "execute_result"
    }
   ],
   "source": [
    "fitness_one(features, businesses, combo, 0.4, 5)"
   ]
  },
  {
   "cell_type": "code",
   "execution_count": null,
   "metadata": {
    "collapsed": true
   },
   "outputs": [],
   "source": []
  }
 ],
 "metadata": {
  "kernelspec": {
   "display_name": "Python 3",
   "language": "python",
   "name": "python3"
  },
  "language_info": {
   "codemirror_mode": {
    "name": "ipython",
    "version": 3
   },
   "file_extension": ".py",
   "mimetype": "text/x-python",
   "name": "python",
   "nbconvert_exporter": "python",
   "pygments_lexer": "ipython3",
   "version": "3.4.2"
  }
 },
 "nbformat": 4,
 "nbformat_minor": 0
}
