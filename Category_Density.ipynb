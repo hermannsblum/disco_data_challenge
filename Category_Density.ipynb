{
 "cells": [
  {
   "cell_type": "code",
   "execution_count": 70,
   "metadata": {
    "collapsed": false
   },
   "outputs": [],
   "source": [
    "import pandas as pd\n",
    "import numpy as np\n",
    "%matplotlib inline\n",
    "import matplotlib.pyplot as plt\n",
    "from ydc.tools import import_data, distances\n",
    "from ydc.tools.supercats import add_supercats\n",
    "from simplekml import Kml, Style\n",
    "\n",
    "from colorsys import hsv_to_rgb\n",
    "\n",
    "#helper for color conv, copies from activestate.com and slightly modfied\n",
    "def get_color(hue, saturation, alpha):\n",
    "    rgb_tuple = hsv_to_rgb(hue, saturation,1)\n",
    "    \"\"\" convert an (R, G, B) tuple to #AARRGGBB \"\"\"\n",
    "    rgb_tuple = (alpha*255, rgb_tuple[0]*255, rgb_tuple[1]*255, rgb_tuple[2]*255)\n",
    "    hexcolor = '%02x%02x%02x%02x' % rgb_tuple\n",
    "    return hexcolor\n",
    "\n",
    "def prepare_kml(cat_dict, kml=None):\n",
    "    # Prepare KML\n",
    "    if kml is None:\n",
    "        kml = Kml()\n",
    "\n",
    "    # Create folder for businesses\n",
    "    main_fol = kml.newfolder(name=\"business_densities\")\n",
    "\n",
    "    # Create subfolder for every category and save them in dictionary\n",
    "    folders = {key: main_fol.newfolder(name=cat_dict[key]['name']) for key in cat_dict}\n",
    "\n",
    "    # More subfolders for subcats\n",
    "    subfolders = {}\n",
    "    for superkey in folders:\n",
    "        subcats = cat_dict[superkey]['sub_categories']\n",
    "        subfolders[superkey] = {key: folders[superkey].newfolder(name=subcats[key]['name']) for key in subcats}\n",
    "    \n",
    "        # Add special for 'all'\n",
    "        subfolders[superkey]['all'] = folders[superkey].newfolder(name='All')\n",
    "    \n",
    "    \"\"\"\n",
    "    #Create color for every category and also save them in dict\n",
    "    styles = {}\n",
    "    for superkey in cat_dict:\n",
    "        subcats = cat_dict[superkey]['sub_categories']\n",
    "        # Create dict of dicts with entries for every subcategory\n",
    "        styles[superkey] = {key: Style() for key in subcats}\n",
    "        for key in subcats:\n",
    "            styles[superkey][key].labelstyle.scale = 0\n",
    "            hue = superkey/len(cat_dict.keys())  # Around the circle\n",
    "            sat = 0.5 + key/(2 * len(subcat.keys()))  # Avoid the middle so not everything gets white\n",
    "            styles[superkey][key].iconstyle.icon.href = (\n",
    "                'http://thydzik.com/thydzikGoogleMap/markerlink.php?color=%s' % get_color(hue, sat)\n",
    "            )\n",
    "\n",
    "    #Special case for uncategories (those are -1 and will be black)\n",
    "    styles[-1] = {-1: Style()}\n",
    "    styles[-1][-1].labelstyle.scale = 0\n",
    "    styles[-1][-1].iconstyle.icon.href = 'http://thydzik.com/thydzikGoogleMap/markerlink.php?color=000000'\n",
    "    \"\"\"\n",
    "    \n",
    "    return kml, subfolders"
   ]
  },
  {
   "cell_type": "code",
   "execution_count": 3,
   "metadata": {
    "collapsed": false
   },
   "outputs": [],
   "source": [
    "df = import_data.import_businesses()\n",
    "cells = distances.CellCollection(15, df)"
   ]
  },
  {
   "cell_type": "code",
   "execution_count": 4,
   "metadata": {
    "collapsed": false
   },
   "outputs": [],
   "source": [
    "cell_copy = cells.to_dict()"
   ]
  },
  {
   "cell_type": "code",
   "execution_count": 9,
   "metadata": {
    "collapsed": false
   },
   "outputs": [],
   "source": [
    "(supercats_frame, box) = add_supercats(import_data.import_businesses())  # cats love boxes!"
   ]
  },
  {
   "cell_type": "code",
   "execution_count": null,
   "metadata": {
    "collapsed": true
   },
   "outputs": [],
   "source": [
    "cat_cells = {}\n",
    "for col_name, col in cell_copy.items():\n",
    "    for row_name, cell in col.items():\n",
    "        super_cats = {}\n",
    "        sub_cats = {}\n",
    "        for business in cell:\n",
    "            # Count super and sub categories for businesses in this cell\n",
    "            super_idx, sub_idx = supercats_frame.iloc[business['index']][['super_category','sub_category']]\n",
    "            \n",
    "            # This counts super only, ignores which sub cat\n",
    "            super_cats[super_idx] = super_cats.get(super_idx, 0) + 1\n",
    "            \n",
    "            # More specific, sorted by super and sub cat\n",
    "            if super_idx not in sub_cats.keys():\n",
    "                sub_cats[super_idx] = {}\n",
    "            sub_cats[super_idx][sub_idx] = sub_cats[super_idx].get(sub_idx, 0) + 1\n",
    "            \n",
    "            # store into new dict by cell\n",
    "            if col_name not in cat_cells.keys():\n",
    "                cat_cells[col_name] = {}\n",
    "            cat_cells[col_name][row_name] = {'super': super_cats, 'sub': sub_cats}\n",
    " "
   ]
  },
  {
   "cell_type": "code",
   "execution_count": 49,
   "metadata": {
    "collapsed": false
   },
   "outputs": [],
   "source": [
    "# Find maxima\n",
    "suplist = []\n",
    "for col in cat_cells:\n",
    "    for row in cat_cells[col]:\n",
    "        for superkey in cat_cells[col][row]['super']:\n",
    "            suplist.append(cat_cells[col][row]['super'][superkey])\n",
    "            \n",
    "max_density = max(suplist)\n",
    "\n",
    "# Norm everything\n",
    "for col in cat_cells:\n",
    "    for row in cat_cells[col]:\n",
    "        for superkey in cat_cells[col][row]['super']:\n",
    "            cat_cells[col][row]['super'][superkey] /= max_density\n",
    "            \n",
    "            for subkey in cat_cells[col][row]['sub'][superkey]:\n",
    "                cat_cells[col][row]['sub'][superkey][subkey] /= max_density"
   ]
  },
  {
   "cell_type": "code",
   "execution_count": 73,
   "metadata": {
    "collapsed": false
   },
   "outputs": [],
   "source": [
    "city= 'Edinburgh'\n",
    "\n",
    "businesses = import_data.import_businesses()\n",
    "businesses_in_city = businesses[businesses['city']==city]\n",
    "\n",
    "def make_polygon(folder, lowerleft, upperright, color):\n",
    "    pol = folder.newpolygon(name='A Polygon')\n",
    "    pol.extrude = 1\n",
    "    coords = [lowerleft, (lowerleft[0], upperright[1]), upperright, (upperright[0], lowerleft[1]), lowerleft]\n",
    "    pol.outerboundaryis = coords\n",
    "    pol.style.polystyle.color = color\n",
    "    \n",
    "\n",
    "def make_polygons(folders, lowerleft, upperright, cell):\n",
    "    for superkey in cell['super']:\n",
    "        sup_tot = len(cell['super'].keys())\n",
    "        \n",
    "        hue = superkey/sup_tot  # Around the circle\n",
    "        sat = 1  # on the outside\n",
    "        alpha = cell['super'][superkey] \n",
    "        \n",
    "        fol = folders[superkey]['all']\n",
    "        make_polygon(fol, lowerleft, upperright, get_color(hue, sat, alpha))\n",
    "    \n",
    "        for subkey in cell['sub'][superkey]:  # all sub cats for this super cat\n",
    "            sub_tot = len(cell['sub'][superkey].keys())\n",
    "            \n",
    "            hue = superkey/sup_tot  # Around the circle\n",
    "            sat = 1  # 0.5 + subkey/(2 * sub_tot)  # Avoid the middle so not everything gets white            \n",
    "            alpha = cell['sub'][superkey][subkey]\n",
    "            \n",
    "            fol = folders[superkey][subkey]\n",
    "            make_polygon(fol, lowerleft, upperright, get_color(hue, sat, alpha))\n",
    "    \n",
    "# Prepare KML\n",
    "kml, folders = prepare_kml(box)\n",
    "\n",
    "\n",
    "# Get boundaries for City\n",
    "min_x = cells.get_cell(businesses.iloc[businesses_in_city['longitude'].idxmin()])[0]\n",
    "max_x = cells.get_cell(businesses.iloc[businesses_in_city['longitude'].idxmax()])[0]\n",
    "min_y = cells.get_cell(businesses.iloc[businesses_in_city['latitude'].idxmin()])[1]\n",
    "max_y = cells.get_cell(businesses.iloc[businesses_in_city['latitude'].idxmax()])[1]\n",
    "    \n",
    "(longitudes, latitudes) = cells.get_borders()\n",
    "\n",
    "for x in range(min_x, max_x):\n",
    "    for y in range(min_y, max_y):\n",
    "        if x in cat_cells and y in cat_cells[x]:\n",
    "            make_polygons(folders, (longitudes[x], latitudes[y]), (longitudes[x+1], latitudes[y+1]), cat_cells[x][y])\n",
    "            \n",
    "kml.save(\"%s.kml\" % city)"
   ]
  },
  {
   "cell_type": "code",
   "execution_count": 56,
   "metadata": {
    "collapsed": false
   },
   "outputs": [
    {
     "data": {
      "text/plain": [
       "{-1: <simplekml.featgeom.Folder at 0x23b3ee10>,\n",
       " 0: <simplekml.featgeom.Folder at 0x6603a278>,\n",
       " 1: <simplekml.featgeom.Folder at 0x6603a2e8>,\n",
       " 2: <simplekml.featgeom.Folder at 0x6603a358>,\n",
       " 3: <simplekml.featgeom.Folder at 0x6603a5c0>,\n",
       " 4: <simplekml.featgeom.Folder at 0x23b3e8d0>,\n",
       " 5: <simplekml.featgeom.Folder at 0x23b3ea20>,\n",
       " 6: <simplekml.featgeom.Folder at 0x23b3ebe0>,\n",
       " 7: <simplekml.featgeom.Folder at 0x23b3eb38>,\n",
       " 8: <simplekml.featgeom.Folder at 0x23b3ecc0>}"
      ]
     },
     "execution_count": 56,
     "metadata": {},
     "output_type": "execute_result"
    }
   ],
   "source": [
    "folders['super']"
   ]
  },
  {
   "cell_type": "code",
   "execution_count": 63,
   "metadata": {
    "collapsed": true
   },
   "outputs": [],
   "source": [
    "import simplekml"
   ]
  },
  {
   "cell_type": "code",
   "execution_count": 64,
   "metadata": {
    "collapsed": false
   },
   "outputs": [
    {
     "data": {
      "text/plain": [
       "'ff0000ff'"
      ]
     },
     "execution_count": 64,
     "metadata": {},
     "output_type": "execute_result"
    }
   ],
   "source": [
    "simplekml.Color.red"
   ]
  },
  {
   "cell_type": "code",
   "execution_count": 69,
   "metadata": {
    "collapsed": false
   },
   "outputs": [
    {
     "data": {
      "text/plain": [
       "'3200ffff'"
      ]
     },
     "execution_count": 69,
     "metadata": {},
     "output_type": "execute_result"
    }
   ],
   "source": [
    "get_color(0.7,1,0)"
   ]
  },
  {
   "cell_type": "code",
   "execution_count": null,
   "metadata": {
    "collapsed": true
   },
   "outputs": [],
   "source": []
  }
 ],
 "metadata": {
  "kernelspec": {
   "display_name": "Python 3",
   "language": "python",
   "name": "python3"
  },
  "language_info": {
   "codemirror_mode": {
    "name": "ipython",
    "version": 3
   },
   "file_extension": ".py",
   "mimetype": "text/x-python",
   "name": "python",
   "nbconvert_exporter": "python",
   "pygments_lexer": "ipython3",
   "version": "3.4.2"
  }
 },
 "nbformat": 4,
 "nbformat_minor": 0
}
