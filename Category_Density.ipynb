{
 "cells": [
  {
   "cell_type": "code",
   "execution_count": 2,
   "metadata": {
    "collapsed": true
   },
   "outputs": [],
   "source": [
    "import pandas as pd\n",
    "import numpy as np\n",
    "%matplotlib inline\n",
    "import matplotlib.pyplot as plt\n",
    "from ydc.tools import import_data, distances\n",
    "from supercats import add_supercats\n",
    "from simplekml import Kml, Style\n",
    "from colorsys import hsv_to_rgb"
   ]
  },
  {
   "cell_type": "code",
   "execution_count": 3,
   "metadata": {
    "collapsed": false
   },
   "outputs": [],
   "source": [
    "df = import_data.import_businesses()\n",
    "cells = distances.CellCollection(15, df)"
   ]
  },
  {
   "cell_type": "code",
   "execution_count": 4,
   "metadata": {
    "collapsed": false
   },
   "outputs": [],
   "source": [
    "cell_copy = cells.to_dict()"
   ]
  },
  {
   "cell_type": "code",
   "execution_count": 5,
   "metadata": {
    "collapsed": false
   },
   "outputs": [],
   "source": [
    "(supercats_frame, names) = add_supercats(import_data.import_businesses())"
   ]
  },
  {
   "cell_type": "code",
   "execution_count": 6,
   "metadata": {
    "collapsed": false
   },
   "outputs": [],
   "source": [
    "cat_cells = {}\n",
    "for col_name, col in cell_copy.items():\n",
    "    for row_name, cell in col.items():\n",
    "        cats = {}\n",
    "        for business in cell:\n",
    "            supercat = supercats_frame.iloc[business['index']]['super category']\n",
    "            cats[supercat] = cats.get(supercat, 0) + 1\n",
    "        if len(cats) != 0:\n",
    "            df = pd.DataFrame(cats, index=['count']).transpose()\n",
    "            max_cat = df['count'].idxmax()\n",
    "            density = df.loc[max_cat]['count'] / df['count'].sum()\n",
    "            # store into new dict\n",
    "            if col_name not in cat_cells.keys():\n",
    "                cat_cells[col_name] = {}\n",
    "            cat_cells[col_name][row_name] = {'cat': int(max_cat), 'density': density}"
   ]
  },
  {
   "cell_type": "code",
   "execution_count": 46,
   "metadata": {
    "collapsed": false
   },
   "outputs": [],
   "source": [
    "densities = pd.DataFrame(cat_cells)"
   ]
  },
  {
   "cell_type": "code",
   "execution_count": 9,
   "metadata": {
    "collapsed": false
   },
   "outputs": [],
   "source": [
    "city= 'Edinburgh'\n",
    "\n",
    "businesses = import_data.import_businesses()\n",
    "businesses_in_city = businesses[businesses['city']==city]\n",
    "\n",
    "def format_color(rgb_tuple, alpha):\n",
    "    \"\"\" convert an (R, G, B) tuple to #RRGGBBal \"\"\"\n",
    "    rgb_tuple = (rgb_tuple[0]*255, rgb_tuple[1]*255, rgb_tuple[2]*255, alpha*255)\n",
    "    hexcolor = '%02x%02x%02x%02x' % rgb_tuple\n",
    "    return hexcolor\n",
    "\n",
    "def make_polygon(folder, lowerleft, upperright, cell):\n",
    "    pol = folder[cell['cat']].newpolygon(name='A Polygon')\n",
    "    pol.extrude = 1\n",
    "    coords = [lowerleft, (lowerleft[0], upperright[1]), upperright, (upperright[0], lowerleft[1]), lowerleft]\n",
    "    pol.outerboundaryis = coords\n",
    "    pol.style.polystyle.color = format_color(hsv_to_rgb(cell['cat']/len(names), 1, 1), cell['density'])\n",
    "    \n",
    "# Prepare KML\n",
    "kml = Kml()\n",
    "\n",
    "#Create subfolder for every category and save them in dictionary\n",
    "subfolders = {key: kml.newfolder(name=names[key]) for key in names}\n",
    "\n",
    "# Get boundaries for City\n",
    "min_x = cells.get_cell(businesses.iloc[businesses_in_city['longitude'].idxmin()])[0]\n",
    "max_x = cells.get_cell(businesses.iloc[businesses_in_city['longitude'].idxmax()])[0]\n",
    "min_y = cells.get_cell(businesses.iloc[businesses_in_city['latitude'].idxmin()])[1]\n",
    "max_y = cells.get_cell(businesses.iloc[businesses_in_city['latitude'].idxmax()])[1]\n",
    "    \n",
    "(longitudes, latitudes) = cells.get_borders()\n",
    "\n",
    "for x in range(min_x, max_x):\n",
    "    for y in range(min_y, max_y):\n",
    "        if x in cat_cells and y in cat_cells[x]:\n",
    "            make_polygon(subfolders, (longitudes[x], latitudes[y]), (longitudes[x+1], latitudes[y+1]), cat_cells[x][y])\n",
    "            \n",
    "kml.save(\"%s.kml\" % city)"
   ]
  },
  {
   "cell_type": "code",
   "execution_count": 21,
   "metadata": {
    "collapsed": false
   },
   "outputs": [
    {
     "name": "stdout",
     "output_type": "stream",
     "text": [
      "-3.3892822265625 is near -3.3913382?\n"
     ]
    }
   ],
   "source": [
    "print(\"{} is near {}?\".format(longitudes[min_x], businesses_in_city['longitude'].min()))"
   ]
  },
  {
   "cell_type": "code",
   "execution_count": 23,
   "metadata": {
    "collapsed": false
   },
   "outputs": [
    {
     "data": {
      "text/plain": [
       "55.8599853515625"
      ]
     },
     "execution_count": 23,
     "metadata": {},
     "output_type": "execute_result"
    }
   ],
   "source": [
    "latitudes[min_y]"
   ]
  },
  {
   "cell_type": "code",
   "execution_count": null,
   "metadata": {
    "collapsed": true
   },
   "outputs": [],
   "source": []
  }
 ],
 "metadata": {
  "kernelspec": {
   "display_name": "Python 3",
   "language": "python",
   "name": "python3"
  },
  "language_info": {
   "codemirror_mode": {
    "name": "ipython",
    "version": 3
   },
   "file_extension": ".py",
   "mimetype": "text/x-python",
   "name": "python",
   "nbconvert_exporter": "python",
   "pygments_lexer": "ipython3",
   "version": "3.4.3"
  }
 },
 "nbformat": 4,
 "nbformat_minor": 0
}
